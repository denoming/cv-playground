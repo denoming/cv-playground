{
 "cells": [
  {
   "cell_type": "code",
   "id": "initial_id",
   "metadata": {
    "collapsed": true
   },
   "source": [
    "import numpy as np\n",
    "import matplotlib.pyplot as plt\n",
    "import pandas as pd\n",
    "from pathlib import Path\n",
    "from common.constants import CV_DATASETS_DIR\n",
    "\n",
    "%matplotlib inline \n",
    "\n",
    "# Set a seed to make results are consistent\n",
    "np.random.seed(3)"
   ],
   "outputs": [],
   "execution_count": null
  },
  {
   "metadata": {
    "ExecuteTime": {
     "end_time": "2024-06-13T19:10:36.357589Z",
     "start_time": "2024-06-13T19:10:36.352655Z"
    }
   },
   "cell_type": "code",
   "source": [
    "def layer_sizes(X: np.ndarray, Y: np.ndarray):\n",
    "    \"\"\"\n",
    "    Returns the size of each layer of the neural network\n",
    "    :param X: input dataset of shape (n, m)\n",
    "    :param Y: labels of shape (k, m)\n",
    "    :return: sizes of each layer of the neural network\n",
    "    \"\"\"\n",
    "    n_x = X.shape[0]\n",
    "    n_y = Y.shape[0]\n",
    "    return n_x, n_y\n",
    "\n",
    "def initialize_parameters(n_x: int, n_y: int):\n",
    "    \"\"\"\n",
    "    Initialize the parameters of the neural network\n",
    "    :param n_x: the size input layer\n",
    "    :param n_y: the size of output layer\n",
    "    :return: parameters of the neural network (W - weights matrix of shape (n_x, n_y), b - bias vector)\n",
    "    \"\"\"\n",
    "    W = np.random.randn(n_y, n_x) * 0.01\n",
    "    b = np.zeros((n_y, 1))\n",
    "    return {\"W\": W, \"b\": b}\n",
    "\n",
    "def forward_propagate(X: np.ndarray, parameters: dict):\n",
    "    \"\"\"\n",
    "    Perform forward propagation of the neural network\n",
    "    :param X: input data of shape (n_x, m) \n",
    "    :param parameters: parameters of the neural network\n",
    "    :return: the predicted values of shape (n_x, m)\n",
    "    \"\"\"\n",
    "    W = parameters[\"W\"]\n",
    "    b = parameters[\"b\"]\n",
    "    Z = W @ X + b\n",
    "    Y_hat = Z\n",
    "    return Y_hat\n",
    "\n",
    "def compute_cost(Y_hat: np.ndarray, Y: np.ndarray):\n",
    "    \"\"\"\n",
    "    Compute the cost function of the neural network\n",
    "    :param Y_hat: the output of the neural network\n",
    "    :param Y: the \"real\" labels\n",
    "    :return: sum of squared scaled by 1/(2 * m)\n",
    "    \"\"\"\n",
    "    m = Y_hat.shape[1]\n",
    "    cost = np.sum((Y_hat - Y) ** 2) / (2 * m)\n",
    "    return cost\n",
    "\n",
    "def backward_propagate(Y_hat: np.ndarray, X: np.ndarray, Y: np.ndarray):\n",
    "    \"\"\"\n",
    "    Perform backward propagation of the neural network\n",
    "    :param Y_hat: the output of the neural network\n",
    "    :param X: input data of shape (n_x, m)\n",
    "    :param Y: the \"real\" labels\n",
    "    :return: gradients of the weights and bias of the neural network\n",
    "    \"\"\"\n",
    "    m = X.shape[1]\n",
    "    dZ = Y_hat - Y\n",
    "    dW = 1/m * np.dot(dZ, X.T)\n",
    "    db = 1/m * np.sum(dZ, axis=1, keepdims=True)\n",
    "    return {\"dW\": dW, \"db\": db}\n",
    "\n",
    "def update_parameters(parameters: dict, gradients: dict, learning_rate: float = 1.2):\n",
    "    \"\"\"\n",
    "    Update the parameters of the neural network\n",
    "    :param parameters: current parameters of the neural network\n",
    "    :param gradients: gradients of the weights and bias of the neural network\n",
    "    :param learning_rate: learning rate parameters for gradient descent\n",
    "    :return: new parameters of the neural network\n",
    "    \"\"\"\n",
    "    W = parameters[\"W\"]\n",
    "    b = parameters[\"b\"]\n",
    "    dW = gradients[\"dW\"]\n",
    "    db = gradients[\"db\"]\n",
    "    W = W - learning_rate * dW\n",
    "    b = b - learning_rate * db\n",
    "    return {\"W\": W, \"b\": b}\n",
    "\n",
    "def nn_model(X: np.ndarray, Y: np.ndarray, num_iterations: int = 10, learning_rate: float = 1.2):\n",
    "    n_x, n_y = layer_sizes(X, Y)\n",
    "    print(f\"input size: {n_x}, output size: {n_y}\")\n",
    "    parameters = initialize_parameters(n_x, n_y)\n",
    "    \n",
    "    for n in range(0, num_iterations):\n",
    "        Y_hat = forward_propagate(X, parameters)\n",
    "        # print(n, \"Y_hat\", Y_hat)\n",
    "        cost = compute_cost(Y_hat, Y)\n",
    "        # print(n, \"cost\", cost)\n",
    "        gradients = backward_propagate(Y_hat, X, Y)\n",
    "        # print(n, \"grads\", gradients)\n",
    "        parameters = update_parameters(parameters, gradients, learning_rate)\n",
    "        # print(n, \"parameters\", parameters)\n",
    "        print(f\"Cost after <{n}> iteration: {cost:.6}\")\n",
    "    \n",
    "    return parameters\n",
    "\n",
    "def predict(X, Y, parameters: dict, X_pred: np.ndarray):\n",
    "    W = parameters[\"W\"]\n",
    "    b = parameters[\"b\"]\n",
    "    \n",
    "    if isinstance(X, pd.Series):\n",
    "        print(\"0\")\n",
    "        X_mean = np.mean(X)\n",
    "        X_std = np.std(X)\n",
    "        X_pred_norm = ((X_pred - X_mean) / X_std).reshape((1, len(X_pred)))\n",
    "    else:\n",
    "        X_mean = np.array(X_multi.mean()).reshape((len(X_multi.axes[1]),1))\n",
    "        X_std = np.array(X_multi.std()).reshape((len(X_multi.axes[1]),1))\n",
    "        X_pred_norm = ((X_pred_multi - X_mean)/X_std)\n",
    "   \n",
    "    Y_pred_norm = W @ X_pred_norm + b\n",
    "    Y_pred = Y_pred_norm * np.std(Y) + np.mean(Y)\n",
    "    return Y_pred"
   ],
   "id": "591dbf6ca1c03a30",
   "outputs": [],
   "execution_count": 163
  },
  {
   "metadata": {},
   "cell_type": "code",
   "source": [
    "DATA_PATH1 = Path(CV_DATASETS_DIR, \"csv\", \"tvmarketing.csv\")\n",
    "adv = pd.read_csv(DATA_PATH1)\n",
    "print(adv.head())\n",
    "adv.plot(x=\"TV\", y=\"Sales\", kind=\"scatter\", c=\"black\");"
   ],
   "id": "820f19f73d708367",
   "outputs": [],
   "execution_count": null
  },
  {
   "metadata": {},
   "cell_type": "code",
   "source": [
    "# Do a column-wise normalization of dataset\n",
    "adv_norm = (adv - adv.mean()) / adv.std()\n",
    "adv_norm.plot(x=\"TV\", y=\"Sales\", kind=\"scatter\", c=\"black\");"
   ],
   "id": "e4d2484e9ca5970a",
   "outputs": [],
   "execution_count": null
  },
  {
   "metadata": {},
   "cell_type": "code",
   "source": [
    "X_norm = adv_norm[\"TV\"]\n",
    "Y_norm = adv_norm[\"Sales\"]\n",
    "X_norm = np.array(X_norm).reshape((1, len(X_norm)))\n",
    "Y_norm = np.array(Y_norm).reshape((1, len(Y_norm)))\n",
    "\n",
    "print(f\"The shape of X_norm: {X_norm.shape}\")\n",
    "print(f\"The shape of Y_norm: {Y_norm.shape}\")"
   ],
   "id": "c7ee0819255e1f30",
   "outputs": [],
   "execution_count": null
  },
  {
   "metadata": {},
   "cell_type": "code",
   "source": [
    "parameters = nn_model(X_norm, Y_norm, num_iterations=10, learning_rate=1.2)\n",
    "print(f\"Parameters of neural network: {parameters}\")"
   ],
   "id": "b25cf110486e2175",
   "outputs": [],
   "execution_count": null
  },
  {
   "metadata": {},
   "cell_type": "code",
   "source": [
    "X_pred = np.array([50, 120, 280])\n",
    "Y_pred = predict(np.array(adv[\"TV\"]), np.array(adv[\"Sales\"]), parameters, X_pred)\n",
    "print(f\"TV marketing expenses:\\n{X_pred}\")\n",
    "print(f\"Predictions of sales:\\n{Y_pred}\")"
   ],
   "id": "61449c20f33feb7d",
   "outputs": [],
   "execution_count": null
  },
  {
   "metadata": {},
   "cell_type": "markdown",
   "source": "",
   "id": "7e7f4d7bc7f2cf34"
  },
  {
   "metadata": {},
   "cell_type": "markdown",
   "source": "#",
   "id": "84c4a0769a19f51d"
  },
  {
   "metadata": {},
   "cell_type": "code",
   "source": [
    "DATA_PATH2 = Path(CV_DATASETS_DIR, \"csv\", \"house_prices_train.csv\")\n",
    "\n",
    "df = pd.read_csv(DATA_PATH2)\n",
    "X_multi = df[[\"GrLivArea\", \"OverallQual\"]]\n",
    "Y_multi = df[\"SalePrice\"]\n",
    "\n",
    "display(X_multi)\n",
    "display(Y_multi)"
   ],
   "id": "e2201118cc330f86",
   "outputs": [],
   "execution_count": null
  },
  {
   "metadata": {},
   "cell_type": "code",
   "source": [
    "X_multi_norm = (X_multi - X_multi.mean()) / X_multi.std()\n",
    "Y_multi_norm = (Y_multi - Y_multi.mean()) / Y_multi.std()\n",
    "\n",
    "# Convert results to the NumPy arrays, transpose X to get shape (2, m) and reshape Y to get (1, m)\n",
    "X_multi_norm = np.array(X_multi_norm).T\n",
    "Y_multi_norm = np.array(Y_multi_norm).reshape((1, len(Y_multi_norm)))\n",
    "\n",
    "print(\"X_multi_norm\", X_multi_norm)\n",
    "print(\"Y_multi_norm\", Y_multi_norm)\n",
    "\n",
    "print(f\"The shape of X_norm: {X_multi_norm.shape}\")\n",
    "print(f\"The shape of Y_norm: {Y_multi_norm.shape}\")"
   ],
   "id": "3ba4f5c3c1b6beee",
   "outputs": [],
   "execution_count": null
  },
  {
   "metadata": {},
   "cell_type": "code",
   "source": [
    "parameters_multi = nn_model(X_multi_norm, Y_multi_norm, num_iterations=100, learning_rate=1.2)\n",
    "print(f\"Parameters of neural network: {parameters_multi}\")"
   ],
   "id": "a45c808bc5b28d9",
   "outputs": [],
   "execution_count": null
  },
  {
   "metadata": {
    "ExecuteTime": {
     "end_time": "2024-06-13T19:10:46.397592Z",
     "start_time": "2024-06-13T19:10:46.394663Z"
    }
   },
   "cell_type": "code",
   "source": [
    "X_pred_multi = np.array([[1710, 7], [1200, 6], [2200, 8]]).T\n",
    "Y_pred_multi = predict(X_multi, Y_multi, parameters_multi, X_pred_multi)\n",
    "\n",
    "print(f\"Ground living area, square feet:\\n{X_pred_multi[0]}\")\n",
    "print(f\"Rates of the overall quality of material and finish, 1-10:\\n{X_pred_multi[1]}\")\n",
    "print(f\"Predictions of sales price, $:\\n{np.round(Y_pred_multi)}\")"
   ],
   "id": "3aa1270de033984c",
   "outputs": [
    {
     "name": "stdout",
     "output_type": "stream",
     "text": [
      "Ground living area, square feet:\n",
      "[1710 1200 2200]\n",
      "Rates of the overall quality of material and finish, 1-10:\n",
      "[7 6 8]\n",
      "Predictions of sales price, $:\n",
      "[[221358. 160046. 281554.]]\n"
     ]
    }
   ],
   "execution_count": 164
  },
  {
   "metadata": {},
   "cell_type": "code",
   "source": "",
   "id": "69379b7a3325e0d2",
   "outputs": [],
   "execution_count": null
  }
 ],
 "metadata": {
  "kernelspec": {
   "display_name": "Python 3",
   "language": "python",
   "name": "python3"
  },
  "language_info": {
   "codemirror_mode": {
    "name": "ipython",
    "version": 2
   },
   "file_extension": ".py",
   "mimetype": "text/x-python",
   "name": "python",
   "nbconvert_exporter": "python",
   "pygments_lexer": "ipython2",
   "version": "2.7.6"
  }
 },
 "nbformat": 4,
 "nbformat_minor": 5
}
