{
 "cells": [
  {
   "cell_type": "code",
   "id": "initial_id",
   "metadata": {
    "collapsed": true,
    "ExecuteTime": {
     "end_time": "2025-02-03T19:34:14.977599Z",
     "start_time": "2025-02-03T19:34:14.833893Z"
    }
   },
   "source": [
    "from common import CV_DATA_DIR\n",
    "\n",
    "import numpy as np\n",
    "\n",
    "from sklearn.linear_model import LinearRegression\n",
    "from sklearn.preprocessing import StandardScaler, PolynomialFeatures\n",
    "from sklearn.model_selection import train_test_split\n",
    "from sklearn.metrics import mean_squared_error\n",
    "\n",
    "import tensorflow as tf\n",
    "\n",
    "# Reduce display precision on numpy array\n",
    "np.set_printoptions(precision=2)\n",
    "\n",
    "# Suppress warnings\n",
    "tf.get_logger().setLevel(\"ERROR\")\n",
    "tf.autograph.set_verbosity(0)\n",
    "\n",
    "# Get GPU physical devices\n",
    "print(tf.config.list_physical_devices('GPU'))"
   ],
   "outputs": [
    {
     "name": "stdout",
     "output_type": "stream",
     "text": [
      "[PhysicalDevice(name='/physical_device:GPU:0', device_type='GPU')]\n"
     ]
    }
   ],
   "execution_count": 2
  },
  {
   "metadata": {},
   "cell_type": "markdown",
   "source": [
    "# Regression\n",
    "\n",
    "1) Load dataset\n",
    "2) Split dataset into training, cross-validation and test sets\n",
    "3) Apply feature scaling\n",
    "4) Train models with different degree (use polynomial features)\n",
    "5) Choose a model with the lowest cross-validation set MSE\n",
    "6) Compute test set MSE using model with chosen degree"
   ],
   "id": "cd5ae5d20f255a8"
  },
  {
   "metadata": {},
   "cell_type": "code",
   "source": [
    "# Load data from CSV\n",
    "data1 = np.loadtxt(CV_DATA_DIR / \"playground\" / \"data_w3_ex1.csv\", delimiter=\",\")\n",
    "\n",
    "# Split data into separate arrays\n",
    "x1 = data1[:,0]\n",
    "y1 = data1[:,1]\n",
    "\n",
    "# Convert 1D arrays to 2D\n",
    "x1 = np.expand_dims(x1, axis=1)\n",
    "y1 = np.expand_dims(y1, axis=1)\n",
    "\n",
    "print(f\"The shape of the inputs is: {x1.shape}\")\n",
    "print(f\"The shape of the targets is: {y1.shape}\")"
   ],
   "id": "863b6fd85c070f04",
   "outputs": [],
   "execution_count": null
  },
  {
   "metadata": {},
   "cell_type": "code",
   "source": [
    "# Get 60% of the dataset for training set (40% remains)\n",
    "x1_train, _x, y1_train, _y = train_test_split(x1, y1, test_size=0.40, random_state=1)\n",
    "# Split remaining 40% into two equal parts: cross-validation set and test set\n",
    "x1_cv, x1_test, y1_cv, y1_test = train_test_split(_x, _y, test_size=0.50, random_state=1)\n",
    "\n",
    "del _x, _y\n",
    "\n",
    "print(f\"The shape of the training set (input) is: {x1_train.shape}\")\n",
    "print(f\"The shape of the training set (target) is: {y1_train.shape}\\n\")\n",
    "print(f\"The shape of the cross validation set (input) is: {x1_cv.shape}\")\n",
    "print(f\"The shape of the cross validation set (target) is: {y1_cv.shape}\\n\")\n",
    "print(f\"The shape of the test set (input) is: {x1_test.shape}\")\n",
    "print(f\"The shape of the test set (target) is: {y1_test.shape}\")"
   ],
   "id": "4fec04347df20bc5",
   "outputs": [],
   "execution_count": null
  },
  {
   "metadata": {},
   "cell_type": "code",
   "source": [
    "# Create standard scaler\n",
    "scaler = StandardScaler()\n",
    "\n",
    "# Perform feature scaling\n",
    "# 1) compute the mean and standard deviation\n",
    "# 2) compute z-scores of each value\n",
    "x1_train_scaled = scaler.fit_transform(x1_train)\n",
    "x1_cv_scaled = scaler.transform(x1_cv)\n",
    "\n",
    "print(f\"Computed mean of the training set: {scaler.mean_.squeeze():.2f}\")\n",
    "print(f\"Computed standard deviation of the training set: {scaler.scale_.squeeze():.2f}\")"
   ],
   "id": "bd71f9717d96c551",
   "outputs": [],
   "execution_count": null
  },
  {
   "metadata": {},
   "cell_type": "code",
   "source": [
    "# Initialize lists to save the errors, models, and feature transforms\n",
    "train_mses = []\n",
    "cv_mses = []\n",
    "models = []\n",
    "polys = []\n",
    "scalers = []\n",
    "\n",
    "# Loop over 10 times. Each adding one more degree of polynomial higher than the last.\n",
    "for degree in range(1,11):\n",
    "    # Add polynomial features to the training set\n",
    "    poly = PolynomialFeatures(degree, include_bias=False)\n",
    "    x1_train_mapped = poly.fit_transform(x1_train)\n",
    "    polys.append(poly)\n",
    "\n",
    "    # Scale the training set\n",
    "    scaler = StandardScaler()\n",
    "    x1_train_mapped_scaled = scaler.fit_transform(x1_train_mapped)\n",
    "    scalers.append(scaler)\n",
    "\n",
    "    # Create and train the model\n",
    "    model = LinearRegression()\n",
    "    model.fit(x1_train_mapped_scaled, y1_train)\n",
    "    models.append(model)\n",
    "\n",
    "    # Compute the training MSE (Mean Squared Error)\n",
    "    yhat = model.predict(x1_train_mapped_scaled)\n",
    "    train_mse = mean_squared_error(y1_train, yhat) / 2\n",
    "    train_mses.append(train_mse)\n",
    "\n",
    "    # Add polynomial features and scale the cross validation set\n",
    "    x1_cv_mapped = poly.transform(x1_cv)\n",
    "    x1_cv_mapped_scaled = scaler.transform(x1_cv_mapped)\n",
    "\n",
    "    # Compute the cross validation MSE\n",
    "    yhat = model.predict(x1_cv_mapped_scaled)\n",
    "    cv_mse = mean_squared_error(y1_cv, yhat) / 2\n",
    "    cv_mses.append(cv_mse)\n"
   ],
   "id": "87b361c3dc83a99",
   "outputs": [],
   "execution_count": null
  },
  {
   "metadata": {},
   "cell_type": "code",
   "source": [
    "# Get the model with the lowest MSE (add 1 because list indices start at 0)\n",
    "# This also corresponds to the degree of the polynomial added\n",
    "degree = np.argmin(cv_mses) + 1\n",
    "print(f\"Lowest CV MSE is found in the model with degree={degree}\")"
   ],
   "id": "6bf04fd14d9136f9",
   "outputs": [],
   "execution_count": null
  },
  {
   "metadata": {},
   "cell_type": "code",
   "source": [
    "# Add polynomial features to the test set\n",
    "X_test_mapped = polys[degree-1].transform(x1_test)\n",
    "\n",
    "# Scale the test set\n",
    "X_test_mapped_scaled = scalers[degree-1].transform(X_test_mapped)\n",
    "\n",
    "# Compute the test MSE\n",
    "yhat = models[degree-1].predict(X_test_mapped_scaled)\n",
    "test_mse = mean_squared_error(y1_test, yhat) / 2\n",
    "\n",
    "print(f\"Training MSE: {train_mses[degree-1]:.2f}\")\n",
    "print(f\"Cross Validation MSE: {cv_mses[degree-1]:.2f}\")\n",
    "print(f\"Test MSE: {test_mse:.2f}\")"
   ],
   "id": "ddbeb87f6e513121",
   "outputs": [],
   "execution_count": null
  },
  {
   "metadata": {},
   "cell_type": "markdown",
   "source": [
    "# Classification\n",
    "\n",
    "1) Load dataset\n",
    "2) Split dataset into training, cross-validation and test sets\n",
    "3) Apply feature scaling\n",
    "4) Train models with different structure\n",
    "5) Choose a model with the lowest cross-validation set mis-classification\n",
    "6) Compute test set MSE using model with chosen degree"
   ],
   "id": "e1a79493b674a979"
  },
  {
   "metadata": {},
   "cell_type": "code",
   "source": [
    "# Load data from CSV\n",
    "data2 = np.loadtxt(CV_DATA_DIR / \"playground\" / \"data_w3_ex2.csv\", delimiter=\",\")\n",
    "\n",
    "# Split the inputs and outputs into separate arrays\n",
    "x2 = data2[:,:-1]\n",
    "y2 = data2[:,-1]\n",
    "\n",
    "# Convert 1D to 2D\n",
    "y2 = np.expand_dims(y2, axis=1)\n",
    "\n",
    "print(f\"the shape of the inputs x is: {x2.shape}\")\n",
    "print(f\"the shape of the targets y is: {y2.shape}\")"
   ],
   "id": "22963d7c013d7bad",
   "outputs": [],
   "execution_count": null
  },
  {
   "metadata": {},
   "cell_type": "code",
   "source": [
    "# Get 60% of the dataset for training set (40% remains)\n",
    "x2_train, _x, y2_train, _y = train_test_split(x2, y2, test_size=0.40, random_state=1)\n",
    "# Split remaining 40% into two equal parts: cross-validation set and test set\n",
    "x2_cv, x2_test, y2_cv, y2_test = train_test_split(_x, _y, test_size=0.50, random_state=1)\n",
    "\n",
    "# Delete temporary variables\n",
    "del _x, _y\n",
    "\n",
    "print(f\"the shape of the training set (input) is: {x2_train.shape}\")\n",
    "print(f\"the shape of the training set (target) is: {y2_train.shape}\\n\")\n",
    "print(f\"the shape of the cross validation set (input) is: {x2_cv.shape}\")\n",
    "print(f\"the shape of the cross validation set (target) is: {y2_cv.shape}\\n\")\n",
    "print(f\"the shape of the test set (input) is: {x2_test.shape}\")\n",
    "print(f\"the shape of the test set (target) is: {y2_test.shape}\")"
   ],
   "id": "701c7a6b59f935e3",
   "outputs": [],
   "execution_count": null
  },
  {
   "metadata": {},
   "cell_type": "code",
   "source": [
    "# Create standard scaler\n",
    "scaler = StandardScaler()\n",
    "\n",
    "# Perform feature scaling\n",
    "# 1) compute the mean and standard deviation\n",
    "# 2) compute z-scores of each value\n",
    "x2_train_scaled = scaler.fit_transform(x2_train)\n",
    "x2_cv_scaled = scaler.transform(x2_cv)\n",
    "x2_test_scaled = scaler.transform(x2_test)"
   ],
   "id": "d637906cc7e6c40",
   "outputs": [],
   "execution_count": null
  },
  {
   "metadata": {},
   "cell_type": "code",
   "source": [
    "from keras.api.models import Sequential\n",
    "from keras.api.layers import Dense\n",
    "\n",
    "mode1 = Sequential([\n",
    "    Dense(25, activation = 'relu'),\n",
    "    Dense(15, activation = 'relu'),\n",
    "    Dense(1, activation = 'linear')\n",
    "], name=\"Model1\")\n",
    "\n",
    "model2 = Sequential([\n",
    "    Dense(20, activation = 'relu'),\n",
    "    Dense(12, activation = 'relu'),\n",
    "    Dense(12, activation = 'relu'),\n",
    "    Dense(20, activation = 'relu'),\n",
    "    Dense(1, activation = 'linear')\n",
    "], name=\"Model2\")\n",
    "\n",
    "model3 = Sequential([\n",
    "    Dense(32, activation = 'relu'),\n",
    "    Dense(16, activation = 'relu'),\n",
    "    Dense(8, activation = 'relu'),\n",
    "    Dense(4, activation = 'relu'),\n",
    "    Dense(12, activation = 'relu'),\n",
    "    Dense(1, activation = 'linear')\n",
    "], name=\"Model3\")\n",
    "\n",
    "models = (mode1, model2, model3)"
   ],
   "id": "db88b789d7a62156",
   "outputs": [],
   "execution_count": null
  },
  {
   "metadata": {},
   "cell_type": "code",
   "source": [
    "from keras.api.losses import BinaryCrossentropy\n",
    "from keras.api.optimizers import Adam\n",
    "\n",
    "nn_train_error = []\n",
    "nn_cv_error = []\n",
    "\n",
    "for model in models:\n",
    "    # Specify the loss and optimizer\n",
    "    model.compile(\n",
    "        loss=BinaryCrossentropy(from_logits=True),\n",
    "        optimizer=Adam(learning_rate=0.01),\n",
    "    )\n",
    "    # Train the model\n",
    "    model.fit(\n",
    "        x2_train_scaled, y2_train,\n",
    "        epochs=200,\n",
    "        verbose=0\n",
    "    )\n",
    "\n",
    "   # Get predictions for training set\n",
    "    yhat = model.predict(x2_train_scaled)\n",
    "    # Convert logits to probabilities\n",
    "    yhat = tf.math.sigmoid(yhat)\n",
    "    # Apply threshold to probabilities\n",
    "    yhat = np.where(yhat >= 0.5, 1, 0)\n",
    "    # Count mis-classifications\n",
    "    train_error = np.mean(yhat != y2_train)\n",
    "    nn_train_error.append(train_error)\n",
    "\n",
    "    # Get predictions for CV set\n",
    "    yhat = model.predict(x2_cv_scaled)\n",
    "    # Convert logits to probabilities\n",
    "    yhat = tf.math.sigmoid(yhat)\n",
    "    # Apply threshold to probabilities\n",
    "    yhat = np.where(yhat >= 0.5, 1, 0)\n",
    "    # Count mis-classifications\n",
    "    cv_error = np.mean(yhat != y2_cv)\n",
    "    nn_cv_error.append(cv_error)"
   ],
   "id": "be66550fa525110e",
   "outputs": [],
   "execution_count": null
  },
  {
   "metadata": {
    "ExecuteTime": {
     "end_time": "2025-02-01T22:48:58.432494Z",
     "start_time": "2025-02-01T22:48:58.430262Z"
    }
   },
   "cell_type": "code",
   "source": [
    "# Print the result\n",
    "for model_num in range(len(nn_train_error)):\n",
    "    print(f\"Model {model_num+1}:\")\n",
    "    print(f\"...Training Set Classification Error: {nn_train_error[model_num]:.5f}\")\n",
    "    print(f\"...CV Set Classification Error: {nn_cv_error[model_num]:.5f}\")"
   ],
   "id": "2bda122557202a98",
   "outputs": [
    {
     "name": "stdout",
     "output_type": "stream",
     "text": [
      "Model 1:\n",
      "...Training Set Classification Error: 0.03333\n",
      "...CV Set Classification Error: 0.15000\n",
      "Model 2:\n",
      "...Training Set Classification Error: 0.05000\n",
      "...CV Set Classification Error: 0.17500\n",
      "Model 3:\n",
      "...Training Set Classification Error: 0.11667\n",
      "...CV Set Classification Error: 0.20000\n"
     ]
    }
   ],
   "execution_count": 25
  },
  {
   "metadata": {
    "ExecuteTime": {
     "end_time": "2025-02-01T22:48:59.170271Z",
     "start_time": "2025-02-01T22:48:59.129518Z"
    }
   },
   "cell_type": "code",
   "source": [
    "model_num = np.argmin(nn_cv_error)\n",
    "\n",
    "# Get predictions for test set\n",
    "yhat = models[model_num-1].predict(x2_test_scaled)\n",
    "# Convert logits to probabilities\n",
    "yhat = tf.math.sigmoid(yhat)\n",
    "# Apply threshold to probabilities\n",
    "yhat = np.where(yhat >= 0.5, 1, 0)\n",
    "# Count mis-classifications\n",
    "nn_test_error = np.mean(yhat != y2_test)\n",
    "\n",
    "print(f\"Selected Model: {model_num}\")\n",
    "print(f\"Training Set Classification Error: {nn_train_error[model_num-1]:.4f}\")\n",
    "print(f\"CV Set Classification Error: {nn_cv_error[model_num-1]:.4f}\")\n",
    "print(f\"Test Set Classification Error: {nn_test_error:.4f}\")"
   ],
   "id": "89f006690016bc22",
   "outputs": [
    {
     "name": "stdout",
     "output_type": "stream",
     "text": [
      "\u001B[1m2/2\u001B[0m \u001B[32m━━━━━━━━━━━━━━━━━━━━\u001B[0m\u001B[37m\u001B[0m \u001B[1m0s\u001B[0m 8ms/step\n",
      "Selected Model: 0\n",
      "Training Set Classification Error: 0.1167\n",
      "CV Set Classification Error: 0.2000\n",
      "Test Set Classification Error: 0.1750\n"
     ]
    }
   ],
   "execution_count": 26
  },
  {
   "metadata": {},
   "cell_type": "code",
   "outputs": [],
   "execution_count": null,
   "source": "",
   "id": "39ce5bb13eb9fa7c"
  }
 ],
 "metadata": {
  "kernelspec": {
   "display_name": "Python 3",
   "language": "python",
   "name": "python3"
  },
  "language_info": {
   "codemirror_mode": {
    "name": "ipython",
    "version": 2
   },
   "file_extension": ".py",
   "mimetype": "text/x-python",
   "name": "python",
   "nbconvert_exporter": "python",
   "pygments_lexer": "ipython2",
   "version": "2.7.6"
  }
 },
 "nbformat": 4,
 "nbformat_minor": 5
}
