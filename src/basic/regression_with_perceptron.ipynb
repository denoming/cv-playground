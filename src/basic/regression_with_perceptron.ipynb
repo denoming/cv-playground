{
 "cells": [
  {
   "cell_type": "code",
   "id": "initial_id",
   "metadata": {
    "collapsed": true
   },
   "source": [
    "%matplotlib inline\n",
    "\n",
    "import numpy as np\n",
    "import pandas as pd\n",
    "from pathlib import Path\n",
    "from common.constants import CV_DATA_DIR"
   ],
   "outputs": [],
   "execution_count": null
  },
  {
   "metadata": {},
   "cell_type": "code",
   "source": [
    "# Set a seed to make results are consistent\n",
    "np.random.seed(3)"
   ],
   "id": "13a82b7cb0212359",
   "outputs": [],
   "execution_count": null
  },
  {
   "metadata": {},
   "cell_type": "code",
   "source": [
    "def layer_sizes(X: np.ndarray, Y: np.ndarray):\n",
    "    \"\"\"\n",
    "    Returns the size of each layer of the neural network\n",
    "    :param X: input dataset of shape (n, m)\n",
    "    :param Y: labels of shape (k, m)\n",
    "    :return: sizes of each layer of the neural network\n",
    "    \"\"\"\n",
    "    n_x = X.shape[0]\n",
    "    n_y = Y.shape[0]\n",
    "    return n_x, n_y"
   ],
   "id": "591dbf6ca1c03a30",
   "outputs": [],
   "execution_count": null
  },
  {
   "metadata": {},
   "cell_type": "code",
   "source": [
    "def initialize_parameters(n_x: int, n_y: int):\n",
    "    \"\"\"\n",
    "    Initialize the parameters of the neural network\n",
    "    :param n_x: the size input layer\n",
    "    :param n_y: the size of output layer\n",
    "    :return: parameters of the neural network (W - weights matrix of shape (n_x, n_y), b - bias vector)\n",
    "    \"\"\"\n",
    "    W = np.random.randn(n_y, n_x) * 0.01\n",
    "    b = np.zeros((n_y, 1))\n",
    "    return {\"W\": W, \"b\": b}"
   ],
   "id": "dd6494862db3a778",
   "outputs": [],
   "execution_count": null
  },
  {
   "metadata": {},
   "cell_type": "code",
   "source": [
    "def forward_propagate(X: np.ndarray, parameters: dict):\n",
    "    \"\"\"\n",
    "    Perform forward propagation of the neural network\n",
    "    :param X: input data of shape (n_x, m)\n",
    "    :param parameters: parameters of the neural network\n",
    "    :return: the predicted values of shape (n_x, m)\n",
    "    \"\"\"\n",
    "    W = parameters[\"W\"]\n",
    "    b = parameters[\"b\"]\n",
    "    Z = W @ X + b\n",
    "    Y_hat = Z\n",
    "    return Y_hat"
   ],
   "id": "78d5a3d23127ce4b",
   "outputs": [],
   "execution_count": null
  },
  {
   "metadata": {},
   "cell_type": "code",
   "source": [
    "def compute_cost(Y_hat: np.ndarray, Y: np.ndarray):\n",
    "    \"\"\"\n",
    "    Compute the cost function of the neural network\n",
    "    :param Y_hat: the output of the neural network\n",
    "    :param Y: the \"real\" labels\n",
    "    :return: sum of squared scaled by 1/(2 * m)\n",
    "    \"\"\"\n",
    "    m = Y_hat.shape[1]\n",
    "    cost = np.sum((Y_hat - Y) ** 2) / (2 * m)\n",
    "    return cost"
   ],
   "id": "ba6a3e3161b82744",
   "outputs": [],
   "execution_count": null
  },
  {
   "metadata": {},
   "cell_type": "code",
   "source": [
    "def backward_propagate(Y_hat: np.ndarray, X: np.ndarray, Y: np.ndarray):\n",
    "    \"\"\"\n",
    "    Perform backward propagation of the neural network\n",
    "    :param Y_hat: the output of the neural network\n",
    "    :param X: input data of shape (n_x, m)\n",
    "    :param Y: the \"real\" labels\n",
    "    :return: gradients of the weights and bias of the neural network\n",
    "    \"\"\"\n",
    "    m = X.shape[1]\n",
    "    dZ = Y_hat - Y\n",
    "    dW = 1/m * np.dot(dZ, X.T)\n",
    "    db = 1/m * np.sum(dZ, axis=1, keepdims=True)\n",
    "    return {\"dW\": dW, \"db\": db}"
   ],
   "id": "6e7e18fb40a1a556",
   "outputs": [],
   "execution_count": null
  },
  {
   "metadata": {},
   "cell_type": "code",
   "source": [
    "def update_parameters(parameters: dict, gradients: dict, learning_rate: float = 1.2):\n",
    "    \"\"\"\n",
    "    Update the parameters of the neural network\n",
    "    :param parameters: current parameters of the neural network\n",
    "    :param gradients: gradients of the weights and bias of the neural network\n",
    "    :param learning_rate: learning rate parameters for gradient descent\n",
    "    :return: new parameters of the neural network\n",
    "    \"\"\"\n",
    "    W = parameters[\"W\"]\n",
    "    b = parameters[\"b\"]\n",
    "    dW = gradients[\"dW\"]\n",
    "    db = gradients[\"db\"]\n",
    "    W = W - learning_rate * dW\n",
    "    b = b - learning_rate * db\n",
    "    return {\"W\": W, \"b\": b}"
   ],
   "id": "aef57d70ea46a355",
   "outputs": [],
   "execution_count": null
  },
  {
   "metadata": {},
   "cell_type": "code",
   "source": [
    "def nn_model(X: np.ndarray, Y: np.ndarray, num_iterations: int = 10, learning_rate: float = 1.2):\n",
    "    n_x, n_y = layer_sizes(X, Y)\n",
    "    print(f\"input size: {n_x}, output size: {n_y}\")\n",
    "    parameters = initialize_parameters(n_x, n_y)\n",
    "\n",
    "    for n in range(0, num_iterations):\n",
    "        Y_hat = forward_propagate(X, parameters)\n",
    "        # print(n, \"Y_hat\", Y_hat)\n",
    "        cost = compute_cost(Y_hat, Y)\n",
    "        # print(n, \"cost\", cost)\n",
    "        gradients = backward_propagate(Y_hat, X, Y)\n",
    "        # print(n, \"grads\", gradients)\n",
    "        parameters = update_parameters(parameters, gradients, learning_rate)\n",
    "        # print(n, \"parameters\", parameters)\n",
    "        print(f\"Cost after <{n}> iteration: {cost:.6}\")\n",
    "\n",
    "    return parameters"
   ],
   "id": "f2d314aa5cacfb4b",
   "outputs": [],
   "execution_count": null
  },
  {
   "metadata": {
    "ExecuteTime": {
     "end_time": "2025-02-01T20:12:11.720425Z",
     "start_time": "2025-02-01T20:12:11.718010Z"
    }
   },
   "cell_type": "code",
   "source": [
    "def predict(X, Y, parameters: dict, X_pred: np.ndarray):\n",
    "    W = parameters[\"W\"]\n",
    "    b = parameters[\"b\"]\n",
    "\n",
    "    if isinstance(X, pd.Series):\n",
    "        X_mean = np.mean(X)\n",
    "        X_std = np.std(X)\n",
    "        X_pred_norm = ((X_pred - X_mean) / X_std).reshape((1, len(X_pred)))\n",
    "    else:\n",
    "        X_mean = np.array(X.mean()).reshape((len(X.axes[1]),1))\n",
    "        X_std = np.array(X.std()).reshape((len(X.axes[1]),1))\n",
    "        X_pred_norm = ((X_pred - X_mean) / X_std)\n",
    "\n",
    "    Y_pred_norm = W @ X_pred_norm + b\n",
    "    Y_pred = Y_pred_norm * np.std(Y) + np.mean(Y)\n",
    "    return Y_pred"
   ],
   "id": "9b146cd42b4903e7",
   "outputs": [],
   "execution_count": 35
  },
  {
   "metadata": {
    "ExecuteTime": {
     "end_time": "2025-02-01T20:11:24.558967Z",
     "start_time": "2025-02-01T20:11:24.510660Z"
    }
   },
   "cell_type": "code",
   "source": [
    "DATA_PATH1 = Path(CV_DATA_DIR, \"playground\", \"tvmarketing.csv\")\n",
    "adv = pd.read_csv(DATA_PATH1)\n",
    "print(adv.head())\n",
    "adv.plot(x=\"TV\", y=\"Sales\", kind=\"scatter\", c=\"black\");"
   ],
   "id": "820f19f73d708367",
   "outputs": [
    {
     "name": "stdout",
     "output_type": "stream",
     "text": [
      "      TV  Sales\n",
      "0  230.1   22.1\n",
      "1   44.5   10.4\n",
      "2   17.2    9.3\n",
      "3  151.5   18.5\n",
      "4  180.8   12.9\n"
     ]
    },
    {
     "data": {
      "text/plain": [
       "<Figure size 640x480 with 1 Axes>"
      ],
      "image/png": "[encoded data removed]"
     },
     "metadata": {},
     "output_type": "display_data"
    }
   ],
   "execution_count": 27
  },
  {
   "metadata": {
    "ExecuteTime": {
     "end_time": "2025-02-01T20:11:26.796728Z",
     "start_time": "2025-02-01T20:11:26.749923Z"
    }
   },
   "cell_type": "code",
   "source": [
    "# Do a column-wise normalization of dataset\n",
    "adv_norm = (adv - adv.mean()) / adv.std()\n",
    "adv_norm.plot(x=\"TV\", y=\"Sales\", kind=\"scatter\", c=\"black\");"
   ],
   "id": "e4d2484e9ca5970a",
   "outputs": [
    {
     "data": {
      "text/plain": [
       "<Figure size 640x480 with 1 Axes>"
      ],
      "image/png": "[encoded data removed]"
     },
     "metadata": {},
     "output_type": "display_data"
    }
   ],
   "execution_count": 28
  },
  {
   "metadata": {
    "ExecuteTime": {
     "end_time": "2025-02-01T20:11:28.623420Z",
     "start_time": "2025-02-01T20:11:28.621110Z"
    }
   },
   "cell_type": "code",
   "source": [
    "X_norm = adv_norm[\"TV\"]\n",
    "Y_norm = adv_norm[\"Sales\"]\n",
    "X_norm = np.array(X_norm).reshape((1, len(X_norm)))\n",
    "Y_norm = np.array(Y_norm).reshape((1, len(Y_norm)))\n",
    "\n",
    "print(f\"The shape of X_norm: {X_norm.shape}\")\n",
    "print(f\"The shape of Y_norm: {Y_norm.shape}\")"
   ],
   "id": "c7ee0819255e1f30",
   "outputs": [
    {
     "name": "stdout",
     "output_type": "stream",
     "text": [
      "The shape of X_norm: (1, 200)\n",
      "The shape of Y_norm: (1, 200)\n"
     ]
    }
   ],
   "execution_count": 29
  },
  {
   "metadata": {
    "ExecuteTime": {
     "end_time": "2025-02-01T20:11:30.556137Z",
     "start_time": "2025-02-01T20:11:30.554084Z"
    }
   },
   "cell_type": "code",
   "source": [
    "parameters = nn_model(X_norm, Y_norm, num_iterations=10, learning_rate=1.2)\n",
    "print(f\"Parameters of neural network: {parameters}\")"
   ],
   "id": "b25cf110486e2175",
   "outputs": [
    {
     "name": "stdout",
     "output_type": "stream",
     "text": [
      "input size: 1, output size: 1\n",
      "Cost after <0> iteration: 0.512177\n",
      "Cost after <1> iteration: 0.205101\n",
      "Cost after <2> iteration: 0.193544\n",
      "Cost after <3> iteration: 0.193109\n",
      "Cost after <4> iteration: 0.193093\n",
      "Cost after <5> iteration: 0.193092\n",
      "Cost after <6> iteration: 0.193092\n",
      "Cost after <7> iteration: 0.193092\n",
      "Cost after <8> iteration: 0.193092\n",
      "Cost after <9> iteration: 0.193092\n",
      "Parameters of neural network: {'W': array([[0.78222436]]), 'b': array([[-2.66453526e-16]])}\n"
     ]
    }
   ],
   "execution_count": 30
  },
  {
   "metadata": {
    "ExecuteTime": {
     "end_time": "2025-02-01T20:11:32.653243Z",
     "start_time": "2025-02-01T20:11:32.650794Z"
    }
   },
   "cell_type": "code",
   "source": [
    "X_pred = np.array([50, 120, 280])\n",
    "Y_pred = predict(adv[\"TV\"], adv[\"Sales\"], parameters, X_pred)\n",
    "print(f\"TV marketing expenses:\\n{X_pred}\")\n",
    "print(f\"Predictions of sales:\\n{Y_pred}\")"
   ],
   "id": "61449c20f33feb7d",
   "outputs": [
    {
     "name": "stdout",
     "output_type": "stream",
     "text": [
      "TV marketing expenses:\n",
      "[ 50 120 280]\n",
      "Predictions of sales:\n",
      "[[ 9.40942593 12.7369905  20.34285238]]\n"
     ]
    }
   ],
   "execution_count": 31
  },
  {
   "metadata": {
    "ExecuteTime": {
     "end_time": "2025-02-01T20:11:34.546890Z",
     "start_time": "2025-02-01T20:11:34.535937Z"
    }
   },
   "cell_type": "code",
   "source": [
    "DATA_PATH2 = Path(CV_DATA_DIR, \"playground\", \"house_prices_train.csv\")\n",
    "\n",
    "df = pd.read_csv(DATA_PATH2)\n",
    "X_multi = df[[\"GrLivArea\", \"OverallQual\"]]\n",
    "Y_multi = df[\"SalePrice\"]\n",
    "\n",
    "display(X_multi)\n",
    "display(Y_multi)"
   ],
   "id": "e2201118cc330f86",
   "outputs": [
    {
     "data": {
      "text/plain": [
       "      GrLivArea  OverallQual\n",
       "0          1710            7\n",
       "1          1262            6\n",
       "2          1786            7\n",
       "3          1717            7\n",
       "4          2198            8\n",
       "...         ...          ...\n",
       "1455       1647            6\n",
       "1456       2073            6\n",
       "1457       2340            7\n",
       "1458       1078            5\n",
       "1459       1256            5\n",
       "\n",
       "[1460 rows x 2 columns]"
      ],
      "text/html": [
       "<div>\n",
       "<style scoped>\n",
       "    .dataframe tbody tr th:only-of-type {\n",
       "        vertical-align: middle;\n",
       "    }\n",
       "\n",
       "    .dataframe tbody tr th {\n",
       "        vertical-align: top;\n",
       "    }\n",
       "\n",
       "    .dataframe thead th {\n",
       "        text-align: right;\n",
       "    }\n",
       "</style>\n",
       "<table border=\"1\" class=\"dataframe\">\n",
       "  <thead>\n",
       "    <tr style=\"text-align: right;\">\n",
       "      <th></th>\n",
       "      <th>GrLivArea</th>\n",
       "      <th>OverallQual</th>\n",
       "    </tr>\n",
       "  </thead>\n",
       "  <tbody>\n",
       "    <tr>\n",
       "      <th>0</th>\n",
       "      <td>1710</td>\n",
       "      <td>7</td>\n",
       "    </tr>\n",
       "    <tr>\n",
       "      <th>1</th>\n",
       "      <td>1262</td>\n",
       "      <td>6</td>\n",
       "    </tr>\n",
       "    <tr>\n",
       "      <th>2</th>\n",
       "      <td>1786</td>\n",
       "      <td>7</td>\n",
       "    </tr>\n",
       "    <tr>\n",
       "      <th>3</th>\n",
       "      <td>1717</td>\n",
       "      <td>7</td>\n",
       "    </tr>\n",
       "    <tr>\n",
       "      <th>4</th>\n",
       "      <td>2198</td>\n",
       "      <td>8</td>\n",
       "    </tr>\n",
       "    <tr>\n",
       "      <th>...</th>\n",
       "      <td>...</td>\n",
       "      <td>...</td>\n",
       "    </tr>\n",
       "    <tr>\n",
       "      <th>1455</th>\n",
       "      <td>1647</td>\n",
       "      <td>6</td>\n",
       "    </tr>\n",
       "    <tr>\n",
       "      <th>1456</th>\n",
       "      <td>2073</td>\n",
       "      <td>6</td>\n",
       "    </tr>\n",
       "    <tr>\n",
       "      <th>1457</th>\n",
       "      <td>2340</td>\n",
       "      <td>7</td>\n",
       "    </tr>\n",
       "    <tr>\n",
       "      <th>1458</th>\n",
       "      <td>1078</td>\n",
       "      <td>5</td>\n",
       "    </tr>\n",
       "    <tr>\n",
       "      <th>1459</th>\n",
       "      <td>1256</td>\n",
       "      <td>5</td>\n",
       "    </tr>\n",
       "  </tbody>\n",
       "</table>\n",
       "<p>1460 rows × 2 columns</p>\n",
       "</div>"
      ]
     },
     "metadata": {},
     "output_type": "display_data"
    },
    {
     "data": {
      "text/plain": [
       "0       208500\n",
       "1       181500\n",
       "2       223500\n",
       "3       140000\n",
       "4       250000\n",
       "         ...  \n",
       "1455    175000\n",
       "1456    210000\n",
       "1457    266500\n",
       "1458    142125\n",
       "1459    147500\n",
       "Name: SalePrice, Length: 1460, dtype: int64"
      ]
     },
     "metadata": {},
     "output_type": "display_data"
    }
   ],
   "execution_count": 32
  },
  {
   "metadata": {
    "ExecuteTime": {
     "end_time": "2025-02-01T20:11:36.873083Z",
     "start_time": "2025-02-01T20:11:36.869808Z"
    }
   },
   "cell_type": "code",
   "source": [
    "X_multi_norm = (X_multi - X_multi.mean()) / X_multi.std()\n",
    "Y_multi_norm = (Y_multi - Y_multi.mean()) / Y_multi.std()\n",
    "\n",
    "# Convert results to the NumPy arrays, transpose X to get shape (2, m) and reshape Y to get (1, m)\n",
    "X_multi_norm = np.array(X_multi_norm).T\n",
    "Y_multi_norm = np.array(Y_multi_norm).reshape((1, len(Y_multi_norm)))\n",
    "\n",
    "print(\"X_multi_norm\", X_multi_norm)\n",
    "print(\"Y_multi_norm\", Y_multi_norm)\n",
    "\n",
    "print(f\"The shape of X_norm: {X_multi_norm.shape}\")\n",
    "print(f\"The shape of Y_norm: {Y_multi_norm.shape}\")"
   ],
   "id": "3ba4f5c3c1b6beee",
   "outputs": [
    {
     "name": "stdout",
     "output_type": "stream",
     "text": [
      "X_multi_norm [[ 0.37020659 -0.48234664  0.51483616 ...  1.56910958 -0.83250243\n",
      "  -0.49376477]\n",
      " [ 0.6512561  -0.07181151  0.6512561  ...  0.6512561  -0.79487911\n",
      "  -0.79487911]]\n",
      "Y_multi_norm [[ 0.34715427  0.00728582  0.53597007 ...  1.07724204 -0.48835566\n",
      "  -0.42069666]]\n",
      "The shape of X_norm: (2, 1460)\n",
      "The shape of Y_norm: (1, 1460)\n"
     ]
    }
   ],
   "execution_count": 33
  },
  {
   "metadata": {
    "ExecuteTime": {
     "end_time": "2025-02-01T20:11:02.663319Z",
     "start_time": "2025-02-01T20:11:02.659520Z"
    }
   },
   "cell_type": "code",
   "source": [
    "parameters_multi = nn_model(X_multi_norm, Y_multi_norm, num_iterations=100, learning_rate=1.2)\n",
    "print(f\"Parameters of neural network: {parameters_multi}\")"
   ],
   "id": "a45c808bc5b28d9",
   "outputs": [
    {
     "name": "stdout",
     "output_type": "stream",
     "text": [
      "input size: 2, output size: 1\n",
      "Cost after <0> iteration: 0.495816\n",
      "Cost after <1> iteration: 0.432889\n",
      "Cost after <2> iteration: 0.382544\n",
      "Cost after <3> iteration: 0.341298\n",
      "Cost after <4> iteration: 0.307243\n",
      "Cost after <5> iteration: 0.279056\n",
      "Cost after <6> iteration: 0.255708\n",
      "Cost after <7> iteration: 0.236362\n",
      "Cost after <8> iteration: 0.220333\n",
      "Cost after <9> iteration: 0.20705\n",
      "Cost after <10> iteration: 0.196043\n",
      "Cost after <11> iteration: 0.186922\n",
      "Cost after <12> iteration: 0.179364\n",
      "Cost after <13> iteration: 0.173101\n",
      "Cost after <14> iteration: 0.167912\n",
      "Cost after <15> iteration: 0.163611\n",
      "Cost after <16> iteration: 0.160048\n",
      "Cost after <17> iteration: 0.157095\n",
      "Cost after <18> iteration: 0.154648\n",
      "Cost after <19> iteration: 0.152621\n",
      "Cost after <20> iteration: 0.15094\n",
      "Cost after <21> iteration: 0.149548\n",
      "Cost after <22> iteration: 0.148395\n",
      "Cost after <23> iteration: 0.147439\n",
      "Cost after <24> iteration: 0.146646\n",
      "Cost after <25> iteration: 0.14599\n",
      "Cost after <26> iteration: 0.145446\n",
      "Cost after <27> iteration: 0.144995\n",
      "Cost after <28> iteration: 0.144622\n",
      "Cost after <29> iteration: 0.144312\n",
      "Cost after <30> iteration: 0.144056\n",
      "Cost after <31> iteration: 0.143843\n",
      "Cost after <32> iteration: 0.143667\n",
      "Cost after <33> iteration: 0.143521\n",
      "Cost after <34> iteration: 0.1434\n",
      "Cost after <35> iteration: 0.1433\n",
      "Cost after <36> iteration: 0.143217\n",
      "Cost after <37> iteration: 0.143148\n",
      "Cost after <38> iteration: 0.143091\n",
      "Cost after <39> iteration: 0.143044\n",
      "Cost after <40> iteration: 0.143005\n",
      "Cost after <41> iteration: 0.142972\n",
      "Cost after <42> iteration: 0.142945\n",
      "Cost after <43> iteration: 0.142923\n",
      "Cost after <44> iteration: 0.142905\n",
      "Cost after <45> iteration: 0.142889\n",
      "Cost after <46> iteration: 0.142877\n",
      "Cost after <47> iteration: 0.142866\n",
      "Cost after <48> iteration: 0.142858\n",
      "Cost after <49> iteration: 0.14285\n",
      "Cost after <50> iteration: 0.142844\n",
      "Cost after <51> iteration: 0.142839\n",
      "Cost after <52> iteration: 0.142835\n",
      "Cost after <53> iteration: 0.142832\n",
      "Cost after <54> iteration: 0.142829\n",
      "Cost after <55> iteration: 0.142827\n",
      "Cost after <56> iteration: 0.142825\n",
      "Cost after <57> iteration: 0.142823\n",
      "Cost after <58> iteration: 0.142822\n",
      "Cost after <59> iteration: 0.142821\n",
      "Cost after <60> iteration: 0.14282\n",
      "Cost after <61> iteration: 0.142819\n",
      "Cost after <62> iteration: 0.142819\n",
      "Cost after <63> iteration: 0.142818\n",
      "Cost after <64> iteration: 0.142818\n",
      "Cost after <65> iteration: 0.142817\n",
      "Cost after <66> iteration: 0.142817\n",
      "Cost after <67> iteration: 0.142817\n",
      "Cost after <68> iteration: 0.142816\n",
      "Cost after <69> iteration: 0.142816\n",
      "Cost after <70> iteration: 0.142816\n",
      "Cost after <71> iteration: 0.142816\n",
      "Cost after <72> iteration: 0.142816\n",
      "Cost after <73> iteration: 0.142816\n",
      "Cost after <74> iteration: 0.142816\n",
      "Cost after <75> iteration: 0.142816\n",
      "Cost after <76> iteration: 0.142816\n",
      "Cost after <77> iteration: 0.142816\n",
      "Cost after <78> iteration: 0.142816\n",
      "Cost after <79> iteration: 0.142816\n",
      "Cost after <80> iteration: 0.142816\n",
      "Cost after <81> iteration: 0.142816\n",
      "Cost after <82> iteration: 0.142816\n",
      "Cost after <83> iteration: 0.142816\n",
      "Cost after <84> iteration: 0.142816\n",
      "Cost after <85> iteration: 0.142816\n",
      "Cost after <86> iteration: 0.142816\n",
      "Cost after <87> iteration: 0.142816\n",
      "Cost after <88> iteration: 0.142816\n",
      "Cost after <89> iteration: 0.142816\n",
      "Cost after <90> iteration: 0.142816\n",
      "Cost after <91> iteration: 0.142816\n",
      "Cost after <92> iteration: 0.142816\n",
      "Cost after <93> iteration: 0.142816\n",
      "Cost after <94> iteration: 0.142816\n",
      "Cost after <95> iteration: 0.142816\n",
      "Cost after <96> iteration: 0.142816\n",
      "Cost after <97> iteration: 0.142816\n",
      "Cost after <98> iteration: 0.142816\n",
      "Cost after <99> iteration: 0.142816\n",
      "Parameters of neural network: {'W': array([[0.36946749, 0.57182284]]), 'b': array([[1.54762048e-16]])}\n"
     ]
    }
   ],
   "execution_count": 23
  },
  {
   "metadata": {
    "ExecuteTime": {
     "end_time": "2025-02-01T20:12:17.073291Z",
     "start_time": "2025-02-01T20:12:17.070594Z"
    }
   },
   "cell_type": "code",
   "source": [
    "X_pred_multi = np.array([[1710, 7], [1200, 6], [2200, 8]]).T\n",
    "Y_pred_multi = predict(X_multi, Y_multi, parameters_multi, X_pred_multi)\n",
    "\n",
    "print(f\"Ground living area, square feet:\\n{X_pred_multi[0]}\")\n",
    "print(f\"Rates of the overall quality of material and finish, 1-10:\\n{X_pred_multi[1]}\")\n",
    "print(f\"Predictions of sales price, $:\\n{np.round(Y_pred_multi)}\")"
   ],
   "id": "3aa1270de033984c",
   "outputs": [
    {
     "name": "stdout",
     "output_type": "stream",
     "text": [
      "Ground living area, square feet:\n",
      "[1710 1200 2200]\n",
      "Rates of the overall quality of material and finish, 1-10:\n",
      "[7 6 8]\n",
      "Predictions of sales price, $:\n",
      "[[221358. 160046. 281554.]]\n"
     ]
    }
   ],
   "execution_count": 36
  },
  {
   "metadata": {},
   "cell_type": "code",
   "outputs": [],
   "execution_count": null,
   "source": "",
   "id": "6acde2663042aaf3"
  }
 ],
 "metadata": {
  "kernelspec": {
   "display_name": "Python 3",
   "language": "python",
   "name": "python3"
  },
  "language_info": {
   "codemirror_mode": {
    "name": "ipython",
    "version": 2
   },
   "file_extension": ".py",
   "mimetype": "text/x-python",
   "name": "python",
   "nbconvert_exporter": "python",
   "pygments_lexer": "ipython2",
   "version": "2.7.6"
  }
 },
 "nbformat": 4,
 "nbformat_minor": 5
}
