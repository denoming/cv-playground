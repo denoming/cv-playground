{
 "cells": [
  {
   "metadata": {},
   "cell_type": "markdown",
   "source": "Training a custom model on `pets-classify` dataset using YOLOv11 pre-trained classify model.\n",
   "id": "4bbee7089aace53"
  },
  {
   "metadata": {},
   "cell_type": "code",
   "source": [
    "            # Training\n",
    "from ultralytics import YOLO\n",
    "from common import CV_MODELS_DIR, CV_DATA_DIR\n",
    "\n",
    "model = YOLO(CV_MODELS_DIR / \"YOLOv11\" / \"yolo11n-cls.pt\")\n",
    "\n",
    "model.train(data=CV_DATA_DIR / \"pets-classify\" / \"images\",\n",
    "            epochs=100,\n",
    "            imgsz=640,\n",
    "            patience=5)"
   ],
   "id": "b3b9e671157e56fb",
   "outputs": [],
   "execution_count": null
  },
  {
   "metadata": {},
   "cell_type": "code",
   "source": [
    "# Validate\n",
    "model = YOLO(CV_MODELS_DIR / \"YOLOv11\" / \"pets-cls.pt\")\n",
    "metrics = model.val()"
   ],
   "id": "e754a0a84b113f3",
   "outputs": [],
   "execution_count": null
  },
  {
   "metadata": {},
   "cell_type": "code",
   "source": [
    "# Print metrics\n",
    "print(\"Metrics:\")\n",
    "print(\"Top1 = \", metrics.top1)\n",
    "print(\"Top5 = \", metrics.top5)"
   ],
   "id": "5491d3254f9dfe8f",
   "outputs": [],
   "execution_count": null
  },
  {
   "metadata": {},
   "cell_type": "code",
   "source": [
    "# Export to ONNX format\n",
    "# + dynamic: enhancing flexibility in handling varying image dimensions\n",
    "# + simplify: potentially improving performance and compatibility\n",
    "model = YOLO(CV_MODELS_DIR / \"YOLOv11\" / \"pets-cls.pt\")\n",
    "model.export(format=\"onnx\", imgsz=640, dynamic=True, simplify=True)"
   ],
   "id": "e9eabeacde3a7606",
   "outputs": [],
   "execution_count": null
  }
 ],
 "metadata": {
  "kernelspec": {
   "display_name": "Python 3",
   "language": "python",
   "name": "python3"
  },
  "language_info": {
   "codemirror_mode": {
    "name": "ipython",
    "version": 2
   },
   "file_extension": ".py",
   "mimetype": "text/x-python",
   "name": "python",
   "nbconvert_exporter": "python",
   "pygments_lexer": "ipython2",
   "version": "2.7.6"
  }
 },
 "nbformat": 4,
 "nbformat_minor": 5
}
