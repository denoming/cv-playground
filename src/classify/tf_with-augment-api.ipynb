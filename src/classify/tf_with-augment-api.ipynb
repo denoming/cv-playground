{
 "cells": [
  {
   "metadata": {},
   "cell_type": "markdown",
   "source": "# TensorFlow: DNN using dataset augmentation",
   "id": "7830b11726f5b62e"
  },
  {
   "cell_type": "code",
   "id": "initial_id",
   "metadata": {
    "collapsed": true
   },
   "source": [
    "import matplotlib.pyplot as plt\n",
    "import tensorflow as tf\n",
    "import numpy as np\n",
    "import os\n",
    "\n",
    "os.environ['TF_CPP_MIN_LOG_LEVEL'] = '1'"
   ],
   "outputs": [],
   "execution_count": null
  },
  {
   "metadata": {},
   "cell_type": "code",
   "source": [
    "from common import CV_DATA_DIR\n",
    "DATA_DIR = CV_DATA_DIR / 'animals' / 'cats-and-dogs'\n",
    "assert DATA_DIR.is_dir(),  \\\n",
    "    f'Dir \"{DATA_DIR}\" does not exists'"
   ],
   "id": "4ea4215cc8613021",
   "outputs": [],
   "execution_count": null
  },
  {
   "metadata": {},
   "cell_type": "code",
   "source": [
    "all_physical_devices = tf.config.list_physical_devices()\n",
    "print(\"All physical devices:\", all_physical_devices)"
   ],
   "id": "2559255bd28f0b9c",
   "outputs": [],
   "execution_count": null
  },
  {
   "metadata": {},
   "cell_type": "markdown",
   "source": "# Prepare dataset",
   "id": "4cfa07f01217373c"
  },
  {
   "metadata": {},
   "cell_type": "code",
   "source": [
    "train_ds, valid_ds = tf.keras.utils.image_dataset_from_directory(\n",
    "    directory=DATA_DIR,\n",
    "    image_size=(150, 150),\n",
    "    batch_size=64,\n",
    "    label_mode='binary',\n",
    "    validation_split=0.1,\n",
    "    subset='both',\n",
    "    seed=1\n",
    ")"
   ],
   "id": "47ef94bdcf76d553",
   "outputs": [],
   "execution_count": null
  },
  {
   "metadata": {},
   "cell_type": "code",
   "source": [
    "BUFFER_SIZE = 1000\n",
    "\n",
    "train_ds = (train_ds\n",
    "    .cache()\n",
    "    .shuffle(BUFFER_SIZE)\n",
    "    .prefetch(tf.data.experimental.AUTOTUNE))\n",
    "\n",
    "valid_ds = (train_ds\n",
    "    .cache()\n",
    "    .prefetch(tf.data.experimental.AUTOTUNE))"
   ],
   "id": "ebeb1563739c9db2",
   "outputs": [],
   "execution_count": null
  },
  {
   "metadata": {},
   "cell_type": "code",
   "source": [
    "batch_images, batch_labels = next(iter(train_ds.take(1)))\n",
    "\n",
    "print(f\"Maximum pixel value of images: {np.max(batch_images)}\\n\")\n",
    "print(f\"Shape of batch of images: {batch_images.shape}\")\n",
    "print(f\"Shape of batch of labels: {batch_labels.shape}\")"
   ],
   "id": "b7ba3b9726d3793d",
   "outputs": [],
   "execution_count": null
  },
  {
   "metadata": {},
   "cell_type": "markdown",
   "source": "# Define models",
   "id": "abfd4253dd792544"
  },
  {
   "metadata": {},
   "cell_type": "code",
   "source": [
    "# Define train model\n",
    "train_layers = tf.keras.models.Sequential([\n",
    "    tf.keras.Input(shape=(150,150,3)),\n",
    "    tf.keras.layers.Rescaling(scale=1./255),\n",
    "    tf.keras.layers.Conv2D(32, kernel_size=(3,3), activation='relu'),\n",
    "    tf.keras.layers.MaxPool2D(),\n",
    "    tf.keras.layers.Conv2D(64, kernel_size=(3,3), activation='relu'),\n",
    "    tf.keras.layers.MaxPool2D(),\n",
    "    tf.keras.layers.Conv2D(128, kernel_size=(3,3), activation='relu'),\n",
    "    tf.keras.layers.MaxPool2D(),\n",
    "    tf.keras.layers.Conv2D(128, kernel_size=(3,3), activation='relu'),\n",
    "    tf.keras.layers.MaxPool2D(),\n",
    "    tf.keras.layers.Flatten(),\n",
    "    tf.keras.layers.Dense(512, activation='relu'),\n",
    "    tf.keras.layers.Dense(1, activation='sigmoid')\n",
    "])"
   ],
   "id": "ebf2b23a9e0cb37d",
   "outputs": [],
   "execution_count": null
  },
  {
   "metadata": {},
   "cell_type": "code",
   "source": [
    "FILL_MODE = 'nearest'\n",
    "\n",
    "# Define augmentation layers\n",
    "augme_layers = tf.keras.Sequential([\n",
    "    tf.keras.Input(shape=(150,150,3)),\n",
    "    tf.keras.layers.RandomFlip('horizontal'),\n",
    "    tf.keras.layers.RandomRotation(0.2, fill_mode=FILL_MODE),\n",
    "    tf.keras.layers.RandomTranslation(0.2, 0.2, fill_mode=FILL_MODE),\n",
    "    tf.keras.layers.RandomZoom(0.2, fill_mode=FILL_MODE),\n",
    "])"
   ],
   "id": "28f5d653d10af928",
   "outputs": [],
   "execution_count": null
  },
  {
   "metadata": {},
   "cell_type": "code",
   "source": [
    "# Compose two models into one\n",
    "model = tf.keras.models.Sequential([\n",
    "    train_layers,\n",
    "    augme_layers\n",
    "])"
   ],
   "id": "45c65da295bfb868",
   "outputs": [],
   "execution_count": null
  },
  {
   "metadata": {},
   "cell_type": "code",
   "source": [
    "model.compile(\n",
    "    optimizer=tf.keras.optimizers.RMSprop(learning_rate=1e-4),\n",
    "    loss='binary_crossentropy',\n",
    "    metrics=['accuracy']\n",
    ")"
   ],
   "id": "b13425e9029bd04",
   "outputs": [],
   "execution_count": null
  },
  {
   "metadata": {},
   "cell_type": "code",
   "source": [
    "# Check input images size for correctness\n",
    "try:\n",
    "    model.evaluate(batch_images, batch_labels, verbose=False)\n",
    "except:\n",
    "    print('Model is not compatible with dataset')\n",
    "else:\n",
    "    predictions = model.predict(batch_images, verbose=False)\n",
    "    print(f'Predictions have shape: {predictions.shape}')"
   ],
   "id": "e766b1a59c1e4670",
   "outputs": [],
   "execution_count": null
  },
  {
   "metadata": {},
   "cell_type": "markdown",
   "source": "# Train model",
   "id": "338ad7a1920a81d9"
  },
  {
   "metadata": {},
   "cell_type": "code",
   "source": [
    "class EarlyStoppingCallback(tf.keras.callbacks.Callback):\n",
    "    def on_epoch_end(self, epochs, logs=None):\n",
    "        if logs['accuracy'] >= 0.85 and logs['val_accuracy'] >= 0.8:\n",
    "            self.model.stop_training = True\n",
    "            print('Reached 95% train accuracy and 80% validation accuracy')\n",
    "\n",
    "history = model.fit(\n",
    "\ttrain_ds,\n",
    "\tepochs=30,\n",
    "\tvalidation_data=valid_ds,\n",
    "\tcallbacks = [EarlyStoppingCallback()],\n",
    "    verbose=2\n",
    ")"
   ],
   "id": "e4b733bfae7d4ebd",
   "outputs": [],
   "execution_count": null
  },
  {
   "metadata": {},
   "cell_type": "code",
   "source": [
    "acc = history.history['accuracy']\n",
    "val_acc = history.history['val_accuracy']\n",
    "loss = history.history['loss']\n",
    "val_loss = history.history['val_loss']\n",
    "\n",
    "# Get number of epochs\n",
    "epochs = range(len(acc))\n",
    "\n",
    "fig, ax = plt.subplots(1, 2, figsize=(10, 5))\n",
    "fig.suptitle('Training and validation accuracy')\n",
    "\n",
    "ax[0].plot(epochs, acc, 'r', label='Training accuracy')\n",
    "ax[0].plot(epochs, val_acc, 'b', label='Validation accuracy')\n",
    "ax[0].set_title('Training and validation accuracy')\n",
    "ax[0].set_xlabel('epochs')\n",
    "ax[0].set_ylabel('accuracy')\n",
    "ax[0].legend()\n",
    "\n",
    "ax[1].plot(epochs, loss, 'r', label='Training Loss')\n",
    "ax[1].plot(epochs, val_loss, 'b', label='Validation Loss')\n",
    "ax[1].set_title('Training and validation loss')\n",
    "ax[1].set_xlabel('epochs')\n",
    "ax[1].set_ylabel('loss')\n",
    "ax[1].legend()\n",
    "\n",
    "plt.show()"
   ],
   "id": "680d077ea1c02957",
   "outputs": [],
   "execution_count": null
  }
 ],
 "metadata": {
  "kernelspec": {
   "display_name": "Python 3",
   "language": "python",
   "name": "python3"
  },
  "language_info": {
   "codemirror_mode": {
    "name": "ipython",
    "version": 2
   },
   "file_extension": ".py",
   "mimetype": "text/x-python",
   "name": "python",
   "nbconvert_exporter": "python",
   "pygments_lexer": "ipython2",
   "version": "2.7.6"
  }
 },
 "nbformat": 4,
 "nbformat_minor": 5
}
