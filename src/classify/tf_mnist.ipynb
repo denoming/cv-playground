{
 "cells": [
  {
   "metadata": {},
   "cell_type": "markdown",
   "source": [
    "# TensorFlow: DNN using MNIST dataset\n",
    "\n",
    "Demonstrates creating DNN to accomplish image classification with Conv2D and MaxPool2D layers.\n",
    "Model is trained on fashion MNIST dataset."
   ],
   "id": "f0f79f5e378448c5"
  },
  {
   "metadata": {},
   "cell_type": "code",
   "source": [
    "import os\n",
    "import matplotlib.pyplot as plt\n",
    "\n",
    "os.environ[\"TF_CPP_MIN_LOG_LEVEL\"] = \"1\""
   ],
   "id": "48230c61d7a697d0",
   "outputs": [],
   "execution_count": null
  },
  {
   "cell_type": "code",
   "id": "initial_id",
   "metadata": {
    "collapsed": true
   },
   "source": [
    "import tensorflow as tf\n",
    "import tensorflow_datasets as tfds\n",
    "\n",
    "print(f\"TF Version: {tf.__version__}\")\n",
    "print(f\"TF Devices: {[d.device_type for d in tf.config.list_physical_devices()]}\")"
   ],
   "outputs": [],
   "execution_count": null
  },
  {
   "metadata": {},
   "cell_type": "code",
   "source": [
    "(train_ds, val_ds, test_ds), ds_info = tfds.load(\"fashion_mnist\",\n",
    "    split=[\"train[:80%]\", \"train[80%:]\", \"test\"],\n",
    "    with_info=True,\n",
    "    as_supervised=True)"
   ],
   "id": "31157f9683d89136",
   "outputs": [],
   "execution_count": null
  },
  {
   "metadata": {},
   "cell_type": "code",
   "source": "_ = tfds.show_examples(train_ds.take(3), ds_info)",
   "id": "50dda89e12a2deed",
   "outputs": [],
   "execution_count": null
  },
  {
   "metadata": {},
   "cell_type": "code",
   "source": [
    "train_ds = (train_ds\n",
    "            .shuffle(buffer_size=1000)\n",
    "            .batch(32)\n",
    "            .prefetch(tf.data.experimental.AUTOTUNE))\n",
    "\n",
    "test_ds = (test_ds\n",
    "           .batch(32)\n",
    "           .prefetch(tf.data.experimental.AUTOTUNE))\n",
    "\n",
    "val_ds = (val_ds\n",
    "          .batch(32)\n",
    "          .prefetch(tf.data.experimental.AUTOTUNE))"
   ],
   "id": "7ec8027e51131080",
   "outputs": [],
   "execution_count": null
  },
  {
   "metadata": {},
   "cell_type": "code",
   "source": [
    "# Define model\n",
    "model = tf.keras.models.Sequential([\n",
    "    tf.keras.Input(shape=(28, 28, 1)),\n",
    "    tf.keras.layers.Rescaling(1.0 / 255.0),\n",
    "    tf.keras.layers.Conv2D(32, kernel_size=(3, 3), activation=tf.nn.relu),\n",
    "    tf.keras.layers.MaxPool2D(),\n",
    "    tf.keras.layers.Conv2D(16, kernel_size=(3, 3), activation=tf.nn.relu),\n",
    "    tf.keras.layers.MaxPool2D(),\n",
    "    tf.keras.layers.Flatten(),\n",
    "    tf.keras.layers.Dense(256, activation=tf.nn.relu),\n",
    "    tf.keras.layers.Dense(10, activation=tf.nn.softmax)\n",
    "])"
   ],
   "id": "132c6745e9382129",
   "outputs": [],
   "execution_count": null
  },
  {
   "metadata": {},
   "cell_type": "code",
   "source": [
    "# Plot model architecture\n",
    "tf.keras.utils.plot_model(model, show_shapes=True)"
   ],
   "id": "e17589fdc3b3d07b",
   "outputs": [],
   "execution_count": null
  },
  {
   "metadata": {},
   "cell_type": "code",
   "source": [
    "# Compile model\n",
    "model.compile(\n",
    "    optimizer=\"adam\",\n",
    "    loss=\"sparse_categorical_crossentropy\",\n",
    "    metrics=[\"accuracy\"])"
   ],
   "id": "5fb4a6516d0a136c",
   "outputs": [],
   "execution_count": null
  },
  {
   "metadata": {},
   "cell_type": "code",
   "source": [
    "callbacks = [\n",
    "    tf.keras.callbacks.EarlyStopping(\n",
    "        patience=5,\n",
    "        min_delta=1e-2,\n",
    "        restore_best_weights=True,\n",
    "        verbose=1\n",
    "    ),\n",
    "    tf.keras.callbacks.TensorBoard(\n",
    "        log_dir=\"logs\",\n",
    "        histogram_freq=0,\n",
    "        embeddings_freq=0,\n",
    "        update_freq=\"epoch\"\n",
    "    )\n",
    "]\n",
    "\n",
    "history = model.fit(\n",
    "    train_ds,\n",
    "    epochs=20,\n",
    "    callbacks=callbacks,\n",
    "    validation_data=val_ds,\n",
    "    verbose=2)"
   ],
   "id": "51a89a3357759a7f",
   "outputs": [],
   "execution_count": null
  },
  {
   "metadata": {},
   "cell_type": "code",
   "source": "model.evaluate(test_ds)",
   "id": "c8d4f7f2c21b4ad8",
   "outputs": [],
   "execution_count": null
  },
  {
   "metadata": {},
   "cell_type": "code",
   "source": [
    "loss = history.history[\"loss\"]\n",
    "val_loss = history.history[\"val_loss\"]\n",
    "accuracy = history.history[\"accuracy\"]\n",
    "val_accuracy = history.history[\"val_accuracy\"]"
   ],
   "id": "868883ffe2580034",
   "outputs": [],
   "execution_count": null
  },
  {
   "metadata": {},
   "cell_type": "code",
   "source": [
    "xs = range(1, len(loss) + 1)\n",
    "plt.figure(figsize=(9,3))\n",
    "plt.subplot(121)\n",
    "plt.plot(xs, loss, \"b\", label=\"Training Loss\")\n",
    "plt.plot(xs, val_loss, \"r\", label=\"Validation Loss\")\n",
    "plt.title(\"Training and Validation Loss\")\n",
    "plt.xlabel(\"Epochs\")\n",
    "plt.ylabel(\"Loss\")\n",
    "plt.legend()\n",
    "plt.subplot(122)\n",
    "plt.plot(xs, accuracy, \"b\", label=\"Training Accuracy\")\n",
    "plt.plot(xs, val_accuracy, \"r\", label=\"Validation Accuracy\")\n",
    "plt.title(\"Training and Validation Accuracy\")\n",
    "plt.xlabel(\"Epochs\")\n",
    "plt.ylabel(\"Accuracy\")\n",
    "plt.legend()\n",
    "plt.show()"
   ],
   "id": "a70c720cbf1aede0",
   "outputs": [],
   "execution_count": null
  }
 ],
 "metadata": {
  "kernelspec": {
   "display_name": "Python 3",
   "language": "python",
   "name": "python3"
  },
  "language_info": {
   "codemirror_mode": {
    "name": "ipython",
    "version": 2
   },
   "file_extension": ".py",
   "mimetype": "text/x-python",
   "name": "python",
   "nbconvert_exporter": "python",
   "pygments_lexer": "ipython2",
   "version": "2.7.6"
  }
 },
 "nbformat": 4,
 "nbformat_minor": 5
}
