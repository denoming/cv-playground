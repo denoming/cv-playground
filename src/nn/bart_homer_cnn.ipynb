{
 "cells": [
  {
   "cell_type": "code",
   "id": "initial_id",
   "metadata": {
    "collapsed": true
   },
   "source": [
    "import numpy as np\n",
    "import os\n",
    "\n",
    "# Set various TF options\n",
    "os.environ['TF_CPP_MIN_LOG_LEVEL'] = '3'\n",
    "os.environ['TF_ENABLE_ONEDNN_OPTS'] = '0'\n",
    "\n",
    "import tensorflow as tf\n",
    "import keras.api as keras\n",
    "\n",
    "tf.debugging.set_log_device_placement(False)\n",
    "\n",
    "print(\"TF version:\", tf.__version__)\n",
    "print(\"TF device:\", tf.config.list_physical_devices('GPU')) # or 'CPU'"
   ],
   "outputs": [],
   "execution_count": null
  },
  {
   "metadata": {},
   "cell_type": "code",
   "source": [
    "from common import CV_DATA_DIR\n",
    "from pathlib import Path\n",
    "\n",
    "DATASET_PATH = Path(CV_DATA_DIR, 'homer_bart_2.zip')\n",
    "\n",
    "archive = keras.utils.get_file(origin=DATASET_PATH.as_uri(), extract=True)\n",
    "data_dir = Path(archive).with_suffix('')"
   ],
   "id": "564162a3b4b20348",
   "outputs": [],
   "execution_count": null
  },
  {
   "metadata": {},
   "cell_type": "code",
   "source": [
    "image_shape = (128, 128, 3)\n",
    "\n",
    "train_ds = keras.utils.image_dataset_from_directory(\n",
    "    Path(data_dir, 'training_set'),\n",
    "    image_size=image_shape[:2],\n",
    "    batch_size=8,\n",
    "    labels='inferred'\n",
    ")\n",
    "val_ds = keras.utils.image_dataset_from_directory(\n",
    "    Path(data_dir, 'test_set'),\n",
    "    image_size=image_shape[:2],\n",
    "    batch_size=1,\n",
    "    labels='inferred',\n",
    "    shuffle=False\n",
    ")"
   ],
   "id": "c982cbd9cde33539",
   "outputs": [],
   "execution_count": null
  },
  {
   "metadata": {},
   "cell_type": "code",
   "source": [
    "from keras.api import layers, models\n",
    "\n",
    "hidden_layer_neurons = int((1152 + 2) / 2)\n",
    "num_classes = 2\n",
    "\n",
    "model = models.Sequential([\n",
    "    layers.Rescaling(1./255),\n",
    "    layers.Conv2D(filters=16, kernel_size=(3, 3), activation='relu'),\n",
    "    layers.MaxPooling2D(),\n",
    "    layers.Conv2D(filters=32, kernel_size=(3, 3), activation='relu'),\n",
    "    layers.MaxPooling2D(),\n",
    "    layers.Conv2D(filters=64, kernel_size=(3, 3), activation='relu'),\n",
    "    layers.MaxPooling2D(),\n",
    "    layers.Flatten(),\n",
    "    layers.Dense(units=hidden_layer_neurons, activation='relu'),\n",
    "    layers.Dense(num_classes)\n",
    "])\n",
    "\n",
    "model.compile(optimizer='adam',\n",
    "              loss=keras.losses.SparseCategoricalCrossentropy(from_logits=True),\n",
    "              metrics=['accuracy'])\n",
    "model.summary()"
   ],
   "id": "c010f30d50f6176c",
   "outputs": [],
   "execution_count": null
  },
  {
   "metadata": {},
   "cell_type": "code",
   "source": [
    "history = model.fit(\n",
    "  train_ds,\n",
    "  validation_data=val_ds,\n",
    "  epochs=30\n",
    ")"
   ],
   "id": "b10f1068a2095b82",
   "outputs": [],
   "execution_count": null
  },
  {
   "metadata": {},
   "cell_type": "code",
   "source": [
    "predictions = model.predict(val_ds)\n",
    "predictions = np.argmax(predictions, axis=1)"
   ],
   "id": "3a9fbe8464ff1b19",
   "outputs": [],
   "execution_count": null
  },
  {
   "metadata": {},
   "cell_type": "code",
   "source": [
    "classes = []\n",
    "for image, clazz in val_ds.as_numpy_iterator():\n",
    "    classes.append(clazz)\n",
    "classes = np.asarray(classes)"
   ],
   "id": "8835e6ae412c58d0",
   "outputs": [],
   "execution_count": null
  },
  {
   "metadata": {},
   "cell_type": "code",
   "source": [
    "from sklearn.metrics import accuracy_score\n",
    "accuracy_score(classes, predictions)"
   ],
   "id": "705be87d954fd638",
   "outputs": [],
   "execution_count": null
  },
  {
   "metadata": {},
   "cell_type": "code",
   "source": [
    "from sklearn.metrics import classification_report\n",
    "print(classification_report(classes, predictions))"
   ],
   "id": "bc11b7290805a120",
   "outputs": [],
   "execution_count": null
  },
  {
   "metadata": {},
   "cell_type": "code",
   "source": "",
   "id": "10932f6f2e7b4610",
   "outputs": [],
   "execution_count": null
  }
 ],
 "metadata": {
  "kernelspec": {
   "display_name": "Python 3",
   "language": "python",
   "name": "python3"
  },
  "language_info": {
   "codemirror_mode": {
    "name": "ipython",
    "version": 2
   },
   "file_extension": ".py",
   "mimetype": "text/x-python",
   "name": "python",
   "nbconvert_exporter": "python",
   "pygments_lexer": "ipython2",
   "version": "2.7.6"
  }
 },
 "nbformat": 4,
 "nbformat_minor": 5
}
