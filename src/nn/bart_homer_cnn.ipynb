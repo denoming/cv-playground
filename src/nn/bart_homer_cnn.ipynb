{
 "cells": [
  {
   "cell_type": "code",
   "id": "initial_id",
   "metadata": {
    "collapsed": true,
    "ExecuteTime": {
     "end_time": "2024-10-27T12:27:29.177935Z",
     "start_time": "2024-10-27T12:27:28.299853Z"
    }
   },
   "source": [
    "import numpy as np\n",
    "import os\n",
    "\n",
    "# Set various TF options\n",
    "os.environ['TF_CPP_MIN_LOG_LEVEL'] = '2'\n",
    "os.environ['TF_ENABLE_ONEDNN_OPTS'] = '0'\n",
    "\n",
    "import tensorflow as tf\n",
    "import keras.api as keras\n",
    "\n",
    "tf.debugging.set_log_device_placement(False)\n",
    "\n",
    "print(\"TF version:\", tf.__version__)\n",
    "print(\"TF device:\", tf.config.list_physical_devices('CPU'))"
   ],
   "outputs": [
    {
     "name": "stderr",
     "output_type": "stream",
     "text": [
      "2024-10-27 14:27:28.401214: E external/local_xla/xla/stream_executor/cuda/cuda_fft.cc:477] Unable to register cuFFT factory: Attempting to register factory for plugin cuFFT when one has already been registered\n",
      "WARNING: All log messages before absl::InitializeLog() is called are written to STDERR\n",
      "E0000 00:00:1730032048.408992   35700 cuda_dnn.cc:8310] Unable to register cuDNN factory: Attempting to register factory for plugin cuDNN when one has already been registered\n",
      "E0000 00:00:1730032048.411324   35700 cuda_blas.cc:1418] Unable to register cuBLAS factory: Attempting to register factory for plugin cuBLAS when one has already been registered\n"
     ]
    },
    {
     "name": "stdout",
     "output_type": "stream",
     "text": [
      "TF version: 2.18.0\n",
      "TF device: [PhysicalDevice(name='/physical_device:CPU:0', device_type='CPU')]\n"
     ]
    }
   ],
   "execution_count": 1
  },
  {
   "metadata": {
    "ExecuteTime": {
     "end_time": "2024-10-27T12:27:31.632424Z",
     "start_time": "2024-10-27T12:27:31.134975Z"
    }
   },
   "cell_type": "code",
   "source": [
    "from common import CV_DATASETS_DIR\n",
    "from pathlib import Path\n",
    "\n",
    "DATASET_PATH = Path(CV_DATASETS_DIR, 'homer_bart_2.zip')\n",
    "\n",
    "archive = keras.utils.get_file(origin=DATASET_PATH.as_uri(), extract=True)\n",
    "data_dir = Path(archive).with_suffix('')"
   ],
   "id": "564162a3b4b20348",
   "outputs": [
    {
     "name": "stdout",
     "output_type": "stream",
     "text": [
      "Downloading data from file:///home/denys/projects/cv-playground/datasets/homer_bart_2.zip\n",
      "\u001B[1m8261885/8261885\u001B[0m \u001B[32m━━━━━━━━━━━━━━━━━━━━\u001B[0m\u001B[37m\u001B[0m \u001B[1m0s\u001B[0m 0us/step\n"
     ]
    },
    {
     "ename": "NotADirectoryError",
     "evalue": "[Errno 20] Not a directory: '/home/denys/.keras/datasets/homer_bart_2.zip/homer_bart_2'",
     "output_type": "error",
     "traceback": [
      "\u001B[0;31m---------------------------------------------------------------------------\u001B[0m",
      "\u001B[0;31mNotADirectoryError\u001B[0m                        Traceback (most recent call last)",
      "Cell \u001B[0;32mIn[2], line 6\u001B[0m\n\u001B[1;32m      2\u001B[0m \u001B[38;5;28;01mfrom\u001B[39;00m \u001B[38;5;21;01mpathlib\u001B[39;00m \u001B[38;5;28;01mimport\u001B[39;00m Path\n\u001B[1;32m      4\u001B[0m DATASET_PATH \u001B[38;5;241m=\u001B[39m Path(CV_DATASETS_DIR, \u001B[38;5;124m'\u001B[39m\u001B[38;5;124mhomer_bart_2.zip\u001B[39m\u001B[38;5;124m'\u001B[39m)\n\u001B[0;32m----> 6\u001B[0m archive \u001B[38;5;241m=\u001B[39m \u001B[43mkeras\u001B[49m\u001B[38;5;241;43m.\u001B[39;49m\u001B[43mutils\u001B[49m\u001B[38;5;241;43m.\u001B[39;49m\u001B[43mget_file\u001B[49m\u001B[43m(\u001B[49m\u001B[43morigin\u001B[49m\u001B[38;5;241;43m=\u001B[39;49m\u001B[43mDATASET_PATH\u001B[49m\u001B[38;5;241;43m.\u001B[39;49m\u001B[43mas_uri\u001B[49m\u001B[43m(\u001B[49m\u001B[43m)\u001B[49m\u001B[43m,\u001B[49m\u001B[43m \u001B[49m\u001B[43mextract\u001B[49m\u001B[38;5;241;43m=\u001B[39;49m\u001B[38;5;28;43;01mTrue\u001B[39;49;00m\u001B[43m)\u001B[49m\n\u001B[1;32m      7\u001B[0m data_dir \u001B[38;5;241m=\u001B[39m Path(archive)\u001B[38;5;241m.\u001B[39mwith_suffix(\u001B[38;5;124m'\u001B[39m\u001B[38;5;124m'\u001B[39m)\n",
      "File \u001B[0;32m~/projects/cv-playground/.venv/lib/python3.12/site-packages/keras/src/utils/file_utils.py:337\u001B[0m, in \u001B[0;36mget_file\u001B[0;34m(fname, origin, untar, md5_hash, file_hash, cache_subdir, hash_algorithm, extract, archive_format, cache_dir, force_download)\u001B[0m\n\u001B[1;32m    334\u001B[0m \u001B[38;5;28;01mif\u001B[39;00m untar:\n\u001B[1;32m    335\u001B[0m     archive_format \u001B[38;5;241m=\u001B[39m \u001B[38;5;124m\"\u001B[39m\u001B[38;5;124mtar\u001B[39m\u001B[38;5;124m\"\u001B[39m\n\u001B[0;32m--> 337\u001B[0m status \u001B[38;5;241m=\u001B[39m \u001B[43mextract_archive\u001B[49m\u001B[43m(\u001B[49m\n\u001B[1;32m    338\u001B[0m \u001B[43m    \u001B[49m\u001B[43mdownload_target\u001B[49m\u001B[43m,\u001B[49m\u001B[43m \u001B[49m\u001B[43mextraction_dir\u001B[49m\u001B[43m,\u001B[49m\u001B[43m \u001B[49m\u001B[43marchive_format\u001B[49m\n\u001B[1;32m    339\u001B[0m \u001B[43m\u001B[49m\u001B[43m)\u001B[49m\n\u001B[1;32m    340\u001B[0m \u001B[38;5;28;01mif\u001B[39;00m \u001B[38;5;129;01mnot\u001B[39;00m status:\n\u001B[1;32m    341\u001B[0m     warnings\u001B[38;5;241m.\u001B[39mwarn(\u001B[38;5;124m\"\u001B[39m\u001B[38;5;124mCould not extract archive.\u001B[39m\u001B[38;5;124m\"\u001B[39m, stacklevel\u001B[38;5;241m=\u001B[39m\u001B[38;5;241m2\u001B[39m)\n",
      "File \u001B[0;32m~/projects/cv-playground/.venv/lib/python3.12/site-packages/keras/src/utils/file_utils.py:112\u001B[0m, in \u001B[0;36mextract_archive\u001B[0;34m(file_path, path, archive_format)\u001B[0m\n\u001B[1;32m    109\u001B[0m \u001B[38;5;28;01mtry\u001B[39;00m:\n\u001B[1;32m    110\u001B[0m     \u001B[38;5;28;01mif\u001B[39;00m zipfile\u001B[38;5;241m.\u001B[39mis_zipfile(file_path):\n\u001B[1;32m    111\u001B[0m         \u001B[38;5;66;03m# Zip archive.\u001B[39;00m\n\u001B[0;32m--> 112\u001B[0m         \u001B[43marchive\u001B[49m\u001B[38;5;241;43m.\u001B[39;49m\u001B[43mextractall\u001B[49m\u001B[43m(\u001B[49m\u001B[43mpath\u001B[49m\u001B[43m)\u001B[49m\n\u001B[1;32m    113\u001B[0m     \u001B[38;5;28;01melse\u001B[39;00m:\n\u001B[1;32m    114\u001B[0m         \u001B[38;5;66;03m# Tar archive, perhaps unsafe. Filter paths.\u001B[39;00m\n\u001B[1;32m    115\u001B[0m         archive\u001B[38;5;241m.\u001B[39mextractall(\n\u001B[1;32m    116\u001B[0m             path, members\u001B[38;5;241m=\u001B[39mfilter_safe_paths(archive)\n\u001B[1;32m    117\u001B[0m         )\n",
      "File \u001B[0;32m/usr/lib/python3.12/zipfile/__init__.py:1744\u001B[0m, in \u001B[0;36mZipFile.extractall\u001B[0;34m(self, path, members, pwd)\u001B[0m\n\u001B[1;32m   1741\u001B[0m     path \u001B[38;5;241m=\u001B[39m os\u001B[38;5;241m.\u001B[39mfspath(path)\n\u001B[1;32m   1743\u001B[0m \u001B[38;5;28;01mfor\u001B[39;00m zipinfo \u001B[38;5;129;01min\u001B[39;00m members:\n\u001B[0;32m-> 1744\u001B[0m     \u001B[38;5;28;43mself\u001B[39;49m\u001B[38;5;241;43m.\u001B[39;49m\u001B[43m_extract_member\u001B[49m\u001B[43m(\u001B[49m\u001B[43mzipinfo\u001B[49m\u001B[43m,\u001B[49m\u001B[43m \u001B[49m\u001B[43mpath\u001B[49m\u001B[43m,\u001B[49m\u001B[43m \u001B[49m\u001B[43mpwd\u001B[49m\u001B[43m)\u001B[49m\n",
      "File \u001B[0;32m/usr/lib/python3.12/zipfile/__init__.py:1797\u001B[0m, in \u001B[0;36mZipFile._extract_member\u001B[0;34m(self, member, targetpath, pwd)\u001B[0m\n\u001B[1;32m   1795\u001B[0m \u001B[38;5;28;01mif\u001B[39;00m member\u001B[38;5;241m.\u001B[39mis_dir():\n\u001B[1;32m   1796\u001B[0m     \u001B[38;5;28;01mif\u001B[39;00m \u001B[38;5;129;01mnot\u001B[39;00m os\u001B[38;5;241m.\u001B[39mpath\u001B[38;5;241m.\u001B[39misdir(targetpath):\n\u001B[0;32m-> 1797\u001B[0m         \u001B[43mos\u001B[49m\u001B[38;5;241;43m.\u001B[39;49m\u001B[43mmkdir\u001B[49m\u001B[43m(\u001B[49m\u001B[43mtargetpath\u001B[49m\u001B[43m)\u001B[49m\n\u001B[1;32m   1798\u001B[0m     \u001B[38;5;28;01mreturn\u001B[39;00m targetpath\n\u001B[1;32m   1800\u001B[0m \u001B[38;5;28;01mwith\u001B[39;00m \u001B[38;5;28mself\u001B[39m\u001B[38;5;241m.\u001B[39mopen(member, pwd\u001B[38;5;241m=\u001B[39mpwd) \u001B[38;5;28;01mas\u001B[39;00m source, \\\n\u001B[1;32m   1801\u001B[0m      \u001B[38;5;28mopen\u001B[39m(targetpath, \u001B[38;5;124m\"\u001B[39m\u001B[38;5;124mwb\u001B[39m\u001B[38;5;124m\"\u001B[39m) \u001B[38;5;28;01mas\u001B[39;00m target:\n",
      "\u001B[0;31mNotADirectoryError\u001B[0m: [Errno 20] Not a directory: '/home/denys/.keras/datasets/homer_bart_2.zip/homer_bart_2'"
     ]
    }
   ],
   "execution_count": 2
  },
  {
   "metadata": {},
   "cell_type": "code",
   "source": [
    "image_shape = (128, 128, 3)\n",
    "\n",
    "train_ds = keras.utils.image_dataset_from_directory(\n",
    "    Path(data_dir, 'training_set'),\n",
    "    image_size=image_shape[:2],\n",
    "    batch_size=8,\n",
    "    labels='inferred'\n",
    ")\n",
    "val_ds = keras.utils.image_dataset_from_directory(\n",
    "    Path(data_dir, 'test_set'),\n",
    "    image_size=image_shape[:2],\n",
    "    batch_size=1,\n",
    "    labels='inferred',\n",
    "    shuffle=False\n",
    ")"
   ],
   "id": "c982cbd9cde33539",
   "outputs": [],
   "execution_count": null
  },
  {
   "metadata": {},
   "cell_type": "code",
   "source": [
    "from keras.api import layers, models\n",
    "\n",
    "hidden_layer_neurons = int((1152 + 2) / 2)\n",
    "num_classes = 2\n",
    "\n",
    "model = models.Sequential([\n",
    "    layers.Rescaling(1./255),\n",
    "    layers.Conv2D(filters=16, kernel_size=(3, 3), activation='relu'),\n",
    "    layers.MaxPooling2D(),\n",
    "    layers.Conv2D(filters=32, kernel_size=(3, 3), activation='relu'),\n",
    "    layers.MaxPooling2D(),\n",
    "    layers.Conv2D(filters=64, kernel_size=(3, 3), activation='relu'),\n",
    "    layers.MaxPooling2D(),\n",
    "    layers.Flatten(),\n",
    "    layers.Dense(units=hidden_layer_neurons, activation='relu'),\n",
    "    layers.Dense(num_classes)\n",
    "])\n",
    "\n",
    "model.compile(optimizer='adam',\n",
    "              loss=keras.losses.SparseCategoricalCrossentropy(from_logits=True),\n",
    "              metrics=['accuracy'])\n",
    "model.summary()"
   ],
   "id": "c010f30d50f6176c",
   "outputs": [],
   "execution_count": null
  },
  {
   "metadata": {},
   "cell_type": "code",
   "source": [
    "history = model.fit(\n",
    "  train_ds,\n",
    "  validation_data=val_ds,\n",
    "  epochs=30\n",
    ")"
   ],
   "id": "b10f1068a2095b82",
   "outputs": [],
   "execution_count": null
  },
  {
   "metadata": {},
   "cell_type": "code",
   "source": [
    "predictions = model.predict(val_ds)\n",
    "predictions = np.argmax(predictions, axis=1)"
   ],
   "id": "3a9fbe8464ff1b19",
   "outputs": [],
   "execution_count": null
  },
  {
   "metadata": {},
   "cell_type": "code",
   "source": [
    "classes = []\n",
    "for image, clazz in val_ds.as_numpy_iterator():\n",
    "    classes.append(clazz)\n",
    "classes = np.asarray(classes)"
   ],
   "id": "8835e6ae412c58d0",
   "outputs": [],
   "execution_count": null
  },
  {
   "metadata": {},
   "cell_type": "code",
   "source": [
    "from sklearn.metrics import accuracy_score\n",
    "accuracy_score(classes, predictions)"
   ],
   "id": "705be87d954fd638",
   "outputs": [],
   "execution_count": null
  },
  {
   "metadata": {},
   "cell_type": "code",
   "source": [
    "from sklearn.metrics import classification_report\n",
    "print(classification_report(classes, predictions))"
   ],
   "id": "bc11b7290805a120",
   "outputs": [],
   "execution_count": null
  },
  {
   "metadata": {},
   "cell_type": "code",
   "source": "",
   "id": "10932f6f2e7b4610",
   "outputs": [],
   "execution_count": null
  }
 ],
 "metadata": {
  "kernelspec": {
   "display_name": "Python 3",
   "language": "python",
   "name": "python3"
  },
  "language_info": {
   "codemirror_mode": {
    "name": "ipython",
    "version": 2
   },
   "file_extension": ".py",
   "mimetype": "text/x-python",
   "name": "python",
   "nbconvert_exporter": "python",
   "pygments_lexer": "ipython2",
   "version": "2.7.6"
  }
 },
 "nbformat": 4,
 "nbformat_minor": 5
}
