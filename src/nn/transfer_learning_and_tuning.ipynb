{
 "cells": [
  {
   "metadata": {
    "ExecuteTime": {
     "end_time": "2024-06-13T15:49:19.488101Z",
     "start_time": "2024-06-13T15:49:17.981322Z"
    }
   },
   "cell_type": "code",
   "source": [
    "import os\n",
    "\n",
    "# Set various TF options\n",
    "os.environ['TF_CPP_MIN_LOG_LEVEL'] = '3'\n",
    "os.environ['TF_ENABLE_ONEDNN_OPTS'] = '0'\n",
    "\n",
    "import tensorflow as tf\n",
    "import keras.api as keras\n",
    "\n",
    "print(\"TF version:\", tf.__version__)\n",
    "print(\"TF device:\", tf.config.list_physical_devices('GPU')) # or 'CPU'"
   ],
   "id": "4468a881e2f649bd",
   "outputs": [
    {
     "name": "stdout",
     "output_type": "stream",
     "text": [
      "TF version: 2.16.1\n",
      "TF device: [PhysicalDevice(name='/physical_device:CPU:0', device_type='CPU')]\n"
     ]
    }
   ],
   "execution_count": 1
  },
  {
   "metadata": {},
   "cell_type": "code",
   "source": [
    "from common import CV_DATA_DIR\n",
    "from pathlib import Path\n",
    "\n",
    "IMAGE_SHAPE = (128, 128, 3)\n",
    "DATASET_PATH = Path(CV_DATA_DIR, 'homer_bart_2.zip')\n",
    "\n",
    "archive = keras.utils.get_file(origin=DATASET_PATH.as_uri(), extract=True)\n",
    "data_dir = Path(archive).with_suffix('')\n",
    "\n",
    "train_ds = keras.utils.image_dataset_from_directory(\n",
    "    Path(data_dir, 'training_set'),\n",
    "    image_size=IMAGE_SHAPE[:2],\n",
    "    batch_size=8,\n",
    "    labels='inferred',\n",
    "    shuffle=True\n",
    ")\n",
    "val_ds = keras.utils.image_dataset_from_directory(\n",
    "    Path(data_dir, 'test_set'),\n",
    "    image_size=IMAGE_SHAPE[:2],\n",
    "    batch_size=1,\n",
    "    labels='inferred',\n",
    "    shuffle=False\n",
    ")"
   ],
   "id": "6010350b969f4f2a",
   "outputs": [],
   "execution_count": null
  },
  {
   "metadata": {},
   "cell_type": "code",
   "source": [
    "inputs = keras.layers.Rescaling(scale=1./255)(keras.Input(shape=IMAGE_SHAPE))\n",
    "\n",
    "# Setting `weights` to 'imagenet' will use particular dataset\n",
    "# Setting `include_top` to False implies creating own dense layer for custom objects classification \n",
    "base_model = keras.applications.ResNet50(weights='imagenet',\n",
    "                                         include_top=False, \n",
    "                                         input_tensor=inputs)\n",
    "\n",
    "# Freeze training of base model\n",
    "for layer in base_model.layers:\n",
    "    layer.trainable = False"
   ],
   "id": "6431de221ed2af56",
   "outputs": [],
   "execution_count": null
  },
  {
   "metadata": {},
   "cell_type": "code",
   "source": [
    "hidden_layer_neurons = int((2048 + 2) / 2)\n",
    "\n",
    "head_model = base_model.output\n",
    "head_model = keras.layers.GlobalAveragePooling2D()(head_model)\n",
    "head_model = keras.layers.Dense(hidden_layer_neurons, activation='relu')(head_model)\n",
    "head_model = keras.layers.Dropout(rate = 0.2)(head_model)\n",
    "head_model = keras.layers.Dense(hidden_layer_neurons, activation='relu')(head_model)\n",
    "head_model = keras.layers.Dropout(rate = 0.2)(head_model)\n",
    "head_model = keras.layers.Dense(2, activation='softmax')(head_model)"
   ],
   "id": "c84fe352d1369923",
   "outputs": [],
   "execution_count": null
  },
  {
   "metadata": {},
   "cell_type": "code",
   "source": [
    "network = keras.models.Model(inputs = base_model.input, outputs = head_model)\n",
    "network.compile(optimizer='adam', loss='sparse_categorical_crossentropy', metrics=['accuracy'])\n",
    "history = network.fit(train_ds, epochs=50, validation_data=val_ds)"
   ],
   "id": "7c61e4a09c9f0e9c",
   "outputs": [],
   "execution_count": null
  },
  {
   "metadata": {},
   "cell_type": "code",
   "source": [
    "import numpy as np\n",
    "predictions = np.argmax(network.predict(val_ds), axis = 1)"
   ],
   "id": "647cf9241b3963ed",
   "outputs": [],
   "execution_count": null
  },
  {
   "metadata": {
    "ExecuteTime": {
     "end_time": "2024-06-03T18:42:25.909282Z",
     "start_time": "2024-06-03T18:42:25.897009Z"
    }
   },
   "cell_type": "code",
   "source": [
    "classes = []\n",
    "for image, clazz in val_ds.as_numpy_iterator():\n",
    "    classes.append(clazz)\n",
    "classes = np.asarray(classes)"
   ],
   "id": "87ec70f8c9349d77",
   "outputs": [
    {
     "name": "stderr",
     "output_type": "stream",
     "text": [
      "2024-06-03 21:42:25.907239: W tensorflow/core/framework/local_rendezvous.cc:404] Local rendezvous is aborting with status: OUT_OF_RANGE: End of sequence\n"
     ]
    }
   ],
   "execution_count": 57
  },
  {
   "metadata": {
    "ExecuteTime": {
     "end_time": "2024-06-03T18:42:39.916827Z",
     "start_time": "2024-06-03T18:42:39.755029Z"
    }
   },
   "cell_type": "code",
   "source": [
    "from sklearn.metrics import accuracy_score\n",
    "accuracy_score(classes, predictions)"
   ],
   "id": "bbffc5891416fa1f",
   "outputs": [
    {
     "data": {
      "text/plain": [
       "0.7407407407407407"
      ]
     },
     "execution_count": 58,
     "metadata": {},
     "output_type": "execute_result"
    }
   ],
   "execution_count": 58
  }
 ],
 "metadata": {
  "kernelspec": {
   "display_name": "Python 3",
   "language": "python",
   "name": "python3"
  },
  "language_info": {
   "codemirror_mode": {
    "name": "ipython",
    "version": 2
   },
   "file_extension": ".py",
   "mimetype": "text/x-python",
   "name": "python",
   "nbconvert_exporter": "python",
   "pygments_lexer": "ipython2",
   "version": "2.7.6"
  }
 },
 "nbformat": 4,
 "nbformat_minor": 5
}
