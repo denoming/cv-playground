{
 "cells": [
  {
   "metadata": {},
   "cell_type": "markdown",
   "source": [
    "# Introduction\n",
    "\n",
    "Example of using pte-trained YOLOv11 neural network by Python\n",
    "+ detection"
   ],
   "id": "84961db2965f5c4c"
  },
  {
   "metadata": {},
   "cell_type": "markdown",
   "source": "# Configure",
   "id": "93d335df13899e08"
  },
  {
   "metadata": {},
   "cell_type": "code",
   "outputs": [],
   "execution_count": null,
   "source": [
    "from common import CV_WORKAREA_DIR, CV_DATA_DIR, CV_MODELS_DIR\n",
    "from ultralytics import settings\n",
    "from ultralytics.utils.ops import Profile"
   ],
   "id": "335c712eadf87272"
  },
  {
   "cell_type": "code",
   "id": "initial_id",
   "metadata": {
    "collapsed": true
   },
   "source": [
    "settings.update({\n",
    "    \"runs_dir\": f\"{CV_WORKAREA_DIR / \"yolo\" / \"runs\"}\"\n",
    "})\n",
    "\n",
    "MODEL_FILE = CV_MODELS_DIR / \"YOLOv11\" / \"yolo11n.pt\"\n",
    "MODEL_FILE_SEC = CV_MODELS_DIR / \"YOLOv11\" / \"yolo11n-seg.pt\"\n",
    "\n",
    "IMAGE1_FILE = CV_DATA_DIR / \"misc\" / \"people-on-the-street.jpg\"\n",
    "VIDEO1_FILE = CV_DATA_DIR / \"cars-on-highway.mp4\"\n",
    "VIDEO2_FILE = CV_DATA_DIR / \"video_street01.mp4\""
   ],
   "outputs": [],
   "execution_count": null
  },
  {
   "metadata": {},
   "cell_type": "markdown",
   "source": [
    "# Using with Python\n",
    "(see https://docs.ultralytics.com/usage/python/)\n"
   ],
   "id": "d9ba9859ca57ba4c"
  },
  {
   "metadata": {},
   "cell_type": "code",
   "source": [
    "import torch\n",
    "from ultralytics import YOLO\n",
    "model = YOLO(MODEL_FILE)\n",
    "\n",
    "device = torch.device(\"cuda:0\" if torch.cuda.is_available() else \"cpu\")\n",
    "model.to(device=device)"
   ],
   "id": "8a5d4a20bdee11db",
   "outputs": [],
   "execution_count": null
  },
  {
   "metadata": {},
   "cell_type": "code",
   "source": [
    "# Object detection on image\n",
    "with Profile(device=device) as dt:\n",
    "    results = model.predict(source=IMAGE1_FILE, save=True, save_txt=True, line_width=1, conf=0.5)\n",
    "\n",
    "print(\"Elapsed time: \", dt)\n",
    "\n",
    "for result in results:\n",
    "    print(\"Result: \", result.path)\n",
    "    for box in result.boxes:\n",
    "        print(\"...box: \", box.xywh)"
   ],
   "id": "d8525aab5e103dd7",
   "outputs": [],
   "execution_count": null
  },
  {
   "metadata": {},
   "cell_type": "code",
   "source": [
    "# Object detection on video\n",
    "model.predict(source=VIDEO1_FILE, save=True, save_txt=False, line_width=1, conf=0.5)"
   ],
   "id": "3474c19ce28361db",
   "outputs": [],
   "execution_count": null
  },
  {
   "metadata": {},
   "cell_type": "code",
   "source": [
    "# Object detection on webcam\n",
    "model.predict(source=\"0\", show=True, conf=0.5)"
   ],
   "id": "78e769efdb755b43",
   "outputs": [],
   "execution_count": null
  }
 ],
 "metadata": {
  "kernelspec": {
   "display_name": "Python 3",
   "language": "python",
   "name": "python3"
  },
  "language_info": {
   "codemirror_mode": {
    "name": "ipython",
    "version": 2
   },
   "file_extension": ".py",
   "mimetype": "text/x-python",
   "name": "python",
   "nbconvert_exporter": "python",
   "pygments_lexer": "ipython2",
   "version": "2.7.6"
  }
 },
 "nbformat": 4,
 "nbformat_minor": 5
}
