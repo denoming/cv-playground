{
 "cells": [
  {
   "metadata": {},
   "cell_type": "markdown",
   "source": [
    "# Introduction\n",
    "\n",
    "Example of training model on potholes dataset using YOLOv11 neural network"
   ],
   "id": "64e0e11ee67ab336"
  },
  {
   "metadata": {
    "ExecuteTime": {
     "end_time": "2025-02-01T20:16:03.515808Z",
     "start_time": "2025-02-01T20:16:03.288078Z"
    }
   },
   "cell_type": "code",
   "source": "from common import CV_DATA_DIR, CV_MODELS_DIR, CV_WORKAREA_DIR",
   "id": "1a394f6600329e36",
   "outputs": [],
   "execution_count": 1
  },
  {
   "metadata": {
    "ExecuteTime": {
     "end_time": "2025-02-01T20:16:03.568696Z",
     "start_time": "2025-02-01T20:16:03.567143Z"
    }
   },
   "cell_type": "code",
   "source": [
    "# Set models path\n",
    "MODEL_FILE = CV_MODELS_DIR / \"YOLOv11\" / \"yolo11n.pt\"\n",
    "MODEL_FILE_SEC = CV_MODELS_DIR / \"YOLOv11\" / \"yolo11n-seg.pt\"\n",
    "\n",
    "# Potholes roboflow dataset\n",
    "DATASET_DIR = CV_DATA_DIR / \"potholes\"\n",
    "DATASET_CFG = DATASET_DIR / \"data.yaml\""
   ],
   "id": "85a8eff997b84591",
   "outputs": [],
   "execution_count": 2
  },
  {
   "metadata": {},
   "cell_type": "code",
   "source": [
    "# Train\n",
    "!yolo task=detect mode=train model={MODEL_FILE} data={DATASET_CFG} epochs=70 imgsz=640"
   ],
   "id": "5f016f4d970719ec",
   "outputs": [],
   "execution_count": null
  },
  {
   "metadata": {},
   "cell_type": "code",
   "source": [
    "# Valdate\n",
    "CUSTOM_MODEL_FILE = CV_WORKAREA_DIR / \"yolo\" / \"runs\" / \"detect\" / \"train\" / \"weights\" / \"best.pt\"\n",
    "!yolo task=detect mode=val model={CUSTOM_MODEL_FILE} data={DATASET_CFG}"
   ],
   "id": "49f6a9138a25d386",
   "outputs": [],
   "execution_count": null
  }
 ],
 "metadata": {
  "kernelspec": {
   "display_name": "Python 3",
   "language": "python",
   "name": "python3"
  },
  "language_info": {
   "codemirror_mode": {
    "name": "ipython",
    "version": 2
   },
   "file_extension": ".py",
   "mimetype": "text/x-python",
   "name": "python",
   "nbconvert_exporter": "python",
   "pygments_lexer": "ipython2",
   "version": "2.7.6"
  }
 },
 "nbformat": 4,
 "nbformat_minor": 5
}
