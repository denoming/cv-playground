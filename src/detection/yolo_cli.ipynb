{
 "cells": [
  {
   "metadata": {},
   "cell_type": "markdown",
   "source": [
    "# Introduction\n",
    "\n",
    "Example of using pte-trained YOLOv11 neural network by CLI\n",
    "+ detection\n",
    "+ segmentation\n",
    "+ export (ONNX format)"
   ],
   "id": "1e25e153b8ce7468"
  },
  {
   "metadata": {},
   "cell_type": "markdown",
   "source": [
    "# Configure\n",
    "\n",
    "See https://docs.ultralytics.com/usage/cfg"
   ],
   "id": "b3a478c90c59c816"
  },
  {
   "cell_type": "code",
   "id": "initial_id",
   "metadata": {
    "collapsed": true
   },
   "source": [
    "from common import CV_WORKAREA_DIR, CV_DATA_DIR, CV_MODELS_DIR\n",
    "from ultralytics import settings\n",
    "\n",
    "settings.update({\n",
    "    \"runs_dir\": f\"{CV_WORKAREA_DIR / \"yolo\" / \"runs\"}\"\n",
    "})\n",
    "\n",
    "MODEL_FILE = CV_MODELS_DIR / \"YOLOv11\" / \"yolo11n.pt\"\n",
    "MODEL_FILE_SEC = CV_MODELS_DIR / \"YOLOv11\" / \"yolo11n-seg.pt\"\n",
    "\n",
    "IMAGE1_FILE = CV_DATA_DIR / \"misc\" / \"people-on-the-street.jpg\"\n",
    "VIDEO1_FILE = CV_DATA_DIR / \"cars-on-highway.mp4\""
   ],
   "outputs": [],
   "execution_count": null
  },
  {
   "metadata": {},
   "cell_type": "markdown",
   "source": [
    "# Using CLI\n",
    "\n",
    "CLI syntax (see https://docs.ultralytics.com/usage/cli/).\n",
    "\n",
    "`yolo TASK MODE ARGS`\n",
    "* `TASK` (optional): detect, segment, classify, pose, obb\n",
    "* `MODE` (required): train, val, predict, export, track, benchmark\n",
    "* `ARGS` (optional): arg=value (e.g. imgsz=640) "
   ],
   "id": "b71db4aa396ca17c"
  },
  {
   "metadata": {},
   "cell_type": "code",
   "source": [
    "# Object detection on image\n",
    "!yolo task=detect mode=predict model=\"{MODEL_FILE}\" source=\"{IMAGE1_FILE}\" save_txt=True save_crop=True line_width=1"
   ],
   "id": "1ec136865309742e",
   "outputs": [],
   "execution_count": null
  },
  {
   "metadata": {},
   "cell_type": "code",
   "source": [
    "# Object detection on video\n",
    "!yolo task=detect mode=predict model=\"{MODEL_FILE}\" source=\"{VIDEO1_FILE}\""
   ],
   "id": "8de85f5aef0ff1dd",
   "outputs": [],
   "execution_count": null
  },
  {
   "metadata": {},
   "cell_type": "code",
   "source": [
    "# Image segmentation on image\n",
    "!yolo task=segment mode=predict model=\"{MODEL_FILE_SEC}\" source=\"{IMAGE1_FILE}\" line_width=1"
   ],
   "id": "aec598ed60d3d24e",
   "outputs": [],
   "execution_count": null
  },
  {
   "metadata": {},
   "cell_type": "code",
   "source": [
    "# Image segmentation on video\n",
    "!yolo task=segment mode=predict model=\"{MODEL_FILE_SEC}\" source=\"{VIDEO1_FILE}\""
   ],
   "id": "fbe604452cdf493d",
   "outputs": [],
   "execution_count": null
  },
  {
   "metadata": {},
   "cell_type": "markdown",
   "source": "# Export",
   "id": "381e6d59999d80d1"
  },
  {
   "metadata": {},
   "cell_type": "code",
   "source": "!yolo task=detect mode=export model=\"{MODEL_FILE}\" format=onnx",
   "id": "f89b657448e0346c",
   "outputs": [],
   "execution_count": null
  },
  {
   "metadata": {},
   "cell_type": "code",
   "source": "!yolo task=segment mode=export model=\"{MODEL_FILE_SEC}\" format=onnx",
   "id": "d752cd5d711724b8",
   "outputs": [],
   "execution_count": null
  }
 ],
 "metadata": {
  "kernelspec": {
   "display_name": "Python 3",
   "language": "python",
   "name": "python3"
  },
  "language_info": {
   "codemirror_mode": {
    "name": "ipython",
    "version": 2
   },
   "file_extension": ".py",
   "mimetype": "text/x-python",
   "name": "python",
   "nbconvert_exporter": "python",
   "pygments_lexer": "ipython2",
   "version": "2.7.6"
  }
 },
 "nbformat": 4,
 "nbformat_minor": 5
}
