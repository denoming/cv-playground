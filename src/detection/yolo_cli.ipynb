{
 "cells": [
  {
   "metadata": {},
   "cell_type": "markdown",
   "source": "# Configure",
   "id": "b3a478c90c59c816"
  },
  {
   "cell_type": "code",
   "id": "initial_id",
   "metadata": {
    "collapsed": true
   },
   "source": [
    "from common import CV_WORKAREA_DIR, CV_DATA_DIR, CV_MODELS_DIR\n",
    "from ultralytics import settings\n",
    "\n",
    "settings.update({\n",
    "    \"runs_dir\": f\"{CV_WORKAREA_DIR / \"yolo\" / \"runs\"}\"\n",
    "})\n",
    "\n",
    "MODEL_FILE = CV_MODELS_DIR / \"YOLOv11\" / \"yolo11n.pt\"\n",
    "MODEL_FILE_SEC = CV_MODELS_DIR / \"YOLOv11\" / \"yolo11n-seg.pt\"\n",
    "\n",
    "IMAGE1_FILE = CV_DATA_DIR / \"yolo\" / \"image1.jpg\"\n",
    "VIDEO1_FILE = CV_DATA_DIR / \"yolo\" / \"video1.mp4\""
   ],
   "outputs": [],
   "execution_count": null
  },
  {
   "metadata": {},
   "cell_type": "markdown",
   "source": [
    "# Using CLI\n",
    "\n",
    "See https://docs.ultralytics.com/usage/cfg/#predict-settings\n",
    "for a full list of supported options."
   ],
   "id": "b71db4aa396ca17c"
  },
  {
   "metadata": {},
   "cell_type": "code",
   "source": [
    "# Object detection on image\n",
    "!yolo task=detect mode=predict model=\"{MODEL_FILE}\" source=\"{IMAGE1_FILE}\" save_txt=True save_crop=True line_width=1"
   ],
   "id": "1ec136865309742e",
   "outputs": [],
   "execution_count": null
  },
  {
   "metadata": {},
   "cell_type": "code",
   "source": [
    "# Object detection on video\n",
    "!yolo task=detect mode=predict model=\"{MODEL_FILE}\" source=\"{VIDEO1_FILE}\""
   ],
   "id": "8de85f5aef0ff1dd",
   "outputs": [],
   "execution_count": null
  },
  {
   "metadata": {},
   "cell_type": "code",
   "source": [
    "# Image segmentation on image\n",
    "!yolo task=segment mode=predict model=\"{MODEL_FILE_SEC}\" source=\"{IMAGE1_FILE}\" line_width=1"
   ],
   "id": "aec598ed60d3d24e",
   "outputs": [],
   "execution_count": null
  },
  {
   "metadata": {},
   "cell_type": "code",
   "source": [
    "# Image segmentation on video\n",
    "!yolo task=segment mode=predict model=\"{MODEL_FILE_SEC}\" source=\"{VIDEO1_FILE}\""
   ],
   "id": "fbe604452cdf493d",
   "outputs": [],
   "execution_count": null
  },
  {
   "metadata": {},
   "cell_type": "markdown",
   "source": "# Export",
   "id": "381e6d59999d80d1"
  },
  {
   "metadata": {},
   "cell_type": "code",
   "source": "!yolo task=detect mode=export model=\"{MODEL_FILE}\" format=onnx",
   "id": "f89b657448e0346c",
   "outputs": [],
   "execution_count": null
  },
  {
   "metadata": {},
   "cell_type": "code",
   "source": "!yolo task=segment mode=export model=\"{MODEL_FILE_SEC}\" format=onnx",
   "id": "d752cd5d711724b8",
   "outputs": [],
   "execution_count": null
  },
  {
   "metadata": {},
   "cell_type": "code",
   "source": "",
   "id": "7d356fc22d8a6b12",
   "outputs": [],
   "execution_count": null
  }
 ],
 "metadata": {
  "kernelspec": {
   "display_name": "Python 3",
   "language": "python",
   "name": "python3"
  },
  "language_info": {
   "codemirror_mode": {
    "name": "ipython",
    "version": 2
   },
   "file_extension": ".py",
   "mimetype": "text/x-python",
   "name": "python",
   "nbconvert_exporter": "python",
   "pygments_lexer": "ipython2",
   "version": "2.7.6"
  }
 },
 "nbformat": 4,
 "nbformat_minor": 5
}
