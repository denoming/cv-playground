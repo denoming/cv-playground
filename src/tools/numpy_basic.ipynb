{
 "cells": [
  {
   "cell_type": "code",
   "id": "initial_id",
   "metadata": {
    "collapsed": true,
    "ExecuteTime": {
     "end_time": "2025-03-12T18:25:31.626311Z",
     "start_time": "2025-03-12T18:25:31.576650Z"
    }
   },
   "source": [
    "import numpy as np\n",
    "print(\"Version: \", np.__version__)"
   ],
   "outputs": [
    {
     "name": "stdout",
     "output_type": "stream",
     "text": [
      "Version:  2.0.2\n"
     ]
    }
   ],
   "execution_count": 2
  },
  {
   "metadata": {},
   "cell_type": "markdown",
   "source": "# Create",
   "id": "74d279df8515157"
  },
  {
   "metadata": {
    "ExecuteTime": {
     "end_time": "2025-03-09T17:46:55.809480Z",
     "start_time": "2025-03-09T17:46:55.807514Z"
    }
   },
   "cell_type": "code",
   "source": [
    "a1 = np.array([\n",
    "  [1, 2],\n",
    "  [3, 4]\n",
    "])\n",
    "\n",
    "print(\"Shape: (rows, columns):\", a1.shape)\n",
    "print(\"Type:\", a1.dtype)\n",
    "print(\"Size:\", a1.size)\n",
    "print(\"Item size:\", a1.itemsize)\n",
    "print(\"Dimensions:\", a1.ndim)"
   ],
   "id": "e5881f6242632652",
   "outputs": [
    {
     "name": "stdout",
     "output_type": "stream",
     "text": [
      "Shape: (rows, columns):  (2, 2)\n",
      "Type:  int64\n",
      "Size:  4\n",
      "Item size:  8\n",
      "Dimensions:  2\n"
     ]
    }
   ],
   "execution_count": 10
  },
  {
   "metadata": {
    "ExecuteTime": {
     "end_time": "2025-03-09T20:44:59.035832Z",
     "start_time": "2025-03-09T20:44:59.033587Z"
    }
   },
   "cell_type": "code",
   "source": [
    "print(\"np.zeros(2) =\", np.zeros(2))\n",
    "print(\"np.ones(2) =\", np.ones(2))\n",
    "print(\"np.full(2) =\", np.full((2, 5), 5))\n",
    "print(\"np.eye(3) =\", np.eye(3))\n"
   ],
   "id": "eb3c56e6f75b2959",
   "outputs": [
    {
     "name": "stdout",
     "output_type": "stream",
     "text": [
      "np.zeros(2) = [0. 0.]\n",
      "np.ones(2) = [1. 1.]\n",
      "np.full(2) = [[5 5 5 5 5]\n",
      " [5 5 5 5 5]]\n",
      "np.eye(3) = [[1. 0. 0.]\n",
      " [0. 1. 0.]\n",
      " [0. 0. 1.]]\n",
      "np.arange(4) = [0 1 2 3]\n"
     ]
    }
   ],
   "execution_count": 102
  },
  {
   "metadata": {
    "ExecuteTime": {
     "end_time": "2025-03-12T18:54:12.350438Z",
     "start_time": "2025-03-12T18:54:12.348482Z"
    }
   },
   "cell_type": "code",
   "source": [
    "a1 = np.arange(4, dtype=np.int64)\n",
    "print(\"np.arange(4) =\", a1)\n",
    "a2 = np.zeros_like(a1)\n",
    "print(\"np.zeros_like(...) =\", a2)"
   ],
   "id": "721d206c6ee5b60",
   "outputs": [
    {
     "name": "stdout",
     "output_type": "stream",
     "text": [
      "np.arange(4) = [0 1 2 3]\n",
      "np.zeros_like(...) = [0 0 0 0]\n"
     ]
    }
   ],
   "execution_count": 8
  },
  {
   "metadata": {
    "ExecuteTime": {
     "end_time": "2025-03-09T20:46:11.241263Z",
     "start_time": "2025-03-09T20:46:11.239117Z"
    }
   },
   "cell_type": "code",
   "source": "print(\"np.linspace(0, 10, 5) =\", np.linspace(0, 10, 5))",
   "id": "8a4460febe8652bd",
   "outputs": [
    {
     "name": "stdout",
     "output_type": "stream",
     "text": [
      "np.linspace(0, 10, 5) = [ 0.   2.5  5.   7.5 10. ]\n"
     ]
    }
   ],
   "execution_count": 104
  },
  {
   "metadata": {
    "ExecuteTime": {
     "end_time": "2025-03-09T20:55:20.633012Z",
     "start_time": "2025-03-09T20:55:20.630435Z"
    }
   },
   "cell_type": "code",
   "source": [
    "# Generate random numbers\n",
    "a1 = np.random.random(1000)\n",
    "print(\"a1.mean() =\", a1.mean(), \", var =\", a1.var())\n",
    "\n",
    "# Generate random number [3, 10) with given shape\n",
    "print(\"np.random.randint(3, 10) =\", np.random.randint(3, 10, size=(3, 3)))\n",
    "\n",
    "# Choose random number from given list\n",
    "print(\"np.random.choice([1, 4, 0, 5], size=10) = \", np.random.choice([1, 4, 0, 5], size=10))\n",
    "\n",
    "# Norm/Gaussian\n",
    "a2 = np.random.randn(1000)\n",
    "print(\"a2.mean() =\", a2.mean(), \", var =\", a2.var())\n",
    "\n"
   ],
   "id": "3485823ba5acad9",
   "outputs": [
    {
     "name": "stdout",
     "output_type": "stream",
     "text": [
      "a1.mean() = 0.4889640285826604 , var = 0.08317879023334018\n",
      "np.random.randint(3, 10) = [[4 6 4]\n",
      " [5 8 8]\n",
      " [9 7 4]]\n",
      "np.random.choice([1, 4, 0, 5], size=10) =  [1 4 4 5 0 1 0 1 1 0]\n",
      "a2.mean() = -0.029736665400122514 , var = 0.9978268571197253\n"
     ]
    }
   ],
   "execution_count": 118
  },
  {
   "metadata": {},
   "cell_type": "markdown",
   "source": "# Indexing and Slicing",
   "id": "425d87186c1fe489"
  },
  {
   "metadata": {
    "ExecuteTime": {
     "end_time": "2025-03-09T18:42:52.278785Z",
     "start_time": "2025-03-09T18:42:52.276017Z"
    }
   },
   "cell_type": "code",
   "source": [
    "a1 = np.array([\n",
    "  [0, 1, 2],\n",
    "  [3, 4, 5],\n",
    "  [6, 7, 8]\n",
    "])\n",
    "\n",
    "# Row\n",
    "print(\"a1[1, :] =\", a1[1, :])\n",
    "# Column\n",
    "print(\"a1[:, 1] =\", a1[:, 1])\n",
    "# Last row and last column\n",
    "print(\"a1[-1, -1] =\", a1[-1, -1])\n",
    "\n",
    "a0 = [1, 3]\n",
    "a1 = np.array([1, 2, 3, 4, 5])\n",
    "print(\"a1[a0] =\", a1[a0])"
   ],
   "id": "225fcd03fb115931",
   "outputs": [
    {
     "name": "stdout",
     "output_type": "stream",
     "text": [
      "a1[1, :] =  [3 4 5]\n",
      "a1[:, 1] =  [1 4 7]\n",
      "a1[-1, -1] =  8\n",
      "a1[a0] =  [2 4]\n",
      "a1[a0] =  [[[0 1 2]\n",
      "  [3 4 5]]\n",
      "\n",
      " [[6 7 8]\n",
      "  [3 4 5]]]\n"
     ]
    }
   ],
   "execution_count": 35
  },
  {
   "metadata": {
    "ExecuteTime": {
     "end_time": "2025-03-09T18:12:10.148631Z",
     "start_time": "2025-03-09T18:12:10.146529Z"
    }
   },
   "cell_type": "code",
   "source": [
    "# Bool indexing\n",
    "a1 = np.array([[0, 1, 2], [3, 4, 5]])\n",
    "print(\"a1 > 2 =\", a1 > 2)\n",
    "print(\"a1[(a1 > 2) & (a < 5)] =\", a1[(a1 > 2) & (a1 < 5)])"
   ],
   "id": "9d3cceebc2d23c8d",
   "outputs": [
    {
     "name": "stdout",
     "output_type": "stream",
     "text": [
      "a1 > 2 =  [[False False False]\n",
      " [ True  True  True]]\n",
      "a1[a1 > 2] =  [3 4]\n"
     ]
    }
   ],
   "execution_count": 30
  },
  {
   "metadata": {
    "ExecuteTime": {
     "end_time": "2025-03-09T19:02:36.097206Z",
     "start_time": "2025-03-09T19:02:36.095321Z"
    }
   },
   "cell_type": "code",
   "source": [
    "# Indexing by condition and value substitution\n",
    "a1 = np.arange(0, 6).reshape(2, 3)\n",
    "print(\"np.where(a1 > 2, a1, -1) =\", np.where(a1 > 2, a1, -1))"
   ],
   "id": "218f2652afb6464e",
   "outputs": [
    {
     "name": "stdout",
     "output_type": "stream",
     "text": [
      "np.where(a1 > 2, a1, -1) =  [[-1 -1]\n",
      " [-1  3]\n",
      " [ 4  5]]\n"
     ]
    }
   ],
   "execution_count": 50
  },
  {
   "metadata": {},
   "cell_type": "code",
   "outputs": [],
   "execution_count": null,
   "source": [
    "a1 = np.arange(1, 7)\n",
    "even = np.argwhere(a1 % 2 == 0).flatten()\n",
    "print(\"Event number of a1:\", a1[even])"
   ],
   "id": "476c06a058e94cb9"
  },
  {
   "metadata": {},
   "cell_type": "markdown",
   "source": "# Reshaping",
   "id": "9fab784ea25781f7"
  },
  {
   "metadata": {
    "ExecuteTime": {
     "end_time": "2025-03-09T19:16:06.415130Z",
     "start_time": "2025-03-09T19:16:06.412957Z"
    }
   },
   "cell_type": "code",
   "source": [
    "# Add new axis\n",
    "a1 = np.arange(0, 3)\n",
    "print(\"origin =\", a1, \", shape =\", a1.shape)\n",
    "a2 = a1[np.newaxis, :]\n",
    "print(\"a1[np.newaxis, :] =\", a2, \", shape =\", a2.shape)\n",
    "a3 = a1[:, np.newaxis]\n",
    "print(\"a1[:, np.newaxis] =\", a3, \", shape =\", a3.shape)"
   ],
   "id": "ec5ff617e678edd1",
   "outputs": [
    {
     "name": "stdout",
     "output_type": "stream",
     "text": [
      "origin =  [0 1 2] , shape =  (3,)\n",
      "a1[np.newaxis, :] =  [[0 1 2]] , shape =  (1, 3)\n",
      "a1[:, np.newaxis] =  [[0]\n",
      " [1]\n",
      " [2]] , shape =  (3, 1)\n"
     ]
    }
   ],
   "execution_count": 55
  },
  {
   "metadata": {
    "ExecuteTime": {
     "end_time": "2025-03-09T19:36:31.810949Z",
     "start_time": "2025-03-09T19:36:31.808797Z"
    }
   },
   "cell_type": "code",
   "source": [
    "# Concatenate\n",
    "a1 = np.array([\n",
    "  [1, 2],\n",
    "  [3, 4]\n",
    "])\n",
    "a2 = np.array([\n",
    "  [5, 6]\n",
    "])\n",
    "print(\"a1 =\", a1)\n",
    "print(\"a2 =\", a2)\n",
    "print(\"np.concatenate((a1, a2), axis=0) =\", np.concatenate((a1, a2), axis=0))\n",
    "print(\"np.concatenate((a1, a2.T), axis=1) =\", np.concatenate((a1, a2.T), axis=1))"
   ],
   "id": "2fc81913285c2722",
   "outputs": [
    {
     "name": "stdout",
     "output_type": "stream",
     "text": [
      "a1 =  [[1 2]\n",
      " [3 4]]\n",
      "a2 =  [[5 6]]\n",
      "np.concatenate((a1, a2), axis=0) =  [[1 2]\n",
      " [3 4]\n",
      " [5 6]]\n",
      "np.concatenate((a1, a2.T), axis=1) =  [[1 2 5]\n",
      " [3 4 6]]\n"
     ]
    }
   ],
   "execution_count": 64
  },
  {
   "metadata": {
    "ExecuteTime": {
     "end_time": "2025-03-09T19:48:21.262064Z",
     "start_time": "2025-03-09T19:48:21.260050Z"
    }
   },
   "cell_type": "code",
   "source": [
    "a1 = np.arange(0, 4).reshape(2, 2)\n",
    "a2 = np.arange(4, 8).reshape(2, 2)\n",
    "print(\"np.vstack((a1, a2)) =\", np.vstack((a1, a2)))\n",
    "print(\"np.hstack((a1, a2)) =\", np.hstack((a1, a2)))"
   ],
   "id": "20859c78b9b3db80",
   "outputs": [
    {
     "name": "stdout",
     "output_type": "stream",
     "text": [
      "np.vstack((a1, a2)) [[0 1]\n",
      " [2 3]\n",
      " [4 5]\n",
      " [6 7]]\n",
      "np.hstack((a1, a2)) [[0 1 4 5]\n",
      " [2 3 6 7]]\n"
     ]
    }
   ],
   "execution_count": 68
  },
  {
   "metadata": {
    "ExecuteTime": {
     "end_time": "2025-03-12T20:01:02.128269Z",
     "start_time": "2025-03-12T20:01:02.126173Z"
    }
   },
   "cell_type": "code",
   "source": [
    "a1 = np.array([[1, 2, 3], [4, 5, 6]])\n",
    "print(\"np.ravel(x) =\", np.ravel(a1))\n",
    "print(\"np.ravel(a1, order='C') =\", np.ravel(a1, order=\"C\"))\n",
    "print(\"np.ravel(a1, order='F') =\", np.ravel(a1, order=\"F\"))"
   ],
   "id": "84d5875e92d43ae6",
   "outputs": [
    {
     "name": "stdout",
     "output_type": "stream",
     "text": [
      "np.ravel(x) = [1 2 3 4 5 6]\n",
      "np.ravel(a1, order='C') = [1 2 3 4 5 6]\n",
      "np.ravel(a1, order='F') = [1 4 2 5 3 6]\n"
     ]
    }
   ],
   "execution_count": 10
  },
  {
   "metadata": {},
   "cell_type": "markdown",
   "source": "# Broadcasting",
   "id": "832cf27598b73686"
  },
  {
   "metadata": {
    "ExecuteTime": {
     "end_time": "2025-03-09T20:02:14.814538Z",
     "start_time": "2025-03-09T20:02:14.812126Z"
    }
   },
   "cell_type": "code",
   "source": [
    "a1 = np.array([\n",
    "  [1, 2, 3],\n",
    "  [4, 5, 6],\n",
    "])\n",
    "a2 = np.array([1, 0, 1])\n",
    "print(\"a1 =\", a1)\n",
    "print(\"a2 =\", a2)\n",
    "print(\"a1+a2 =\", a1 + a2)"
   ],
   "id": "e440ed2e4e35470b",
   "outputs": [
    {
     "name": "stdout",
     "output_type": "stream",
     "text": [
      "a1 =  [[1 2 3]\n",
      " [4 5 6]]\n",
      "a2 =  [1 0 1]\n",
      "a1+a2 =  [[2 2 4]\n",
      " [5 5 7]]\n"
     ]
    }
   ],
   "execution_count": 71
  },
  {
   "metadata": {},
   "cell_type": "markdown",
   "source": "# Functions",
   "id": "9a791271e5e67b11"
  },
  {
   "metadata": {},
   "cell_type": "code",
   "outputs": [],
   "execution_count": null,
   "source": [
    "# Element-wise multiplication\n",
    "a1 = np.array([1, 2, 3])\n",
    "a2 = np.array([1, 0, 1])\n",
    "print(\"a1 * a2 =\", a1 * a2)"
   ],
   "id": "784fb99ab9e63ab8"
  },
  {
   "metadata": {},
   "cell_type": "code",
   "outputs": [],
   "execution_count": null,
   "source": [
    "# Transpose\n",
    "a1 = np.array([\n",
    "  [1, 2],\n",
    "  [3, 4]\n",
    "])\n",
    "print(\"Before transpose:\", a1)\n",
    "print(\"After transpose:\", a1.T)"
   ],
   "id": "d2eab97c1f31cb13"
  },
  {
   "metadata": {},
   "cell_type": "code",
   "outputs": [],
   "execution_count": null,
   "source": [
    "# Diagonal\n",
    "a1 = np.array([\n",
    "  [1, 2],\n",
    "  [3, 4]\n",
    "])\n",
    "print(\"np.diag(a1):\", np.diag(a1))"
   ],
   "id": "7deb5e47f7c37006"
  },
  {
   "metadata": {
    "ExecuteTime": {
     "end_time": "2025-03-11T21:11:57.826774Z",
     "start_time": "2025-03-11T21:11:57.824385Z"
    }
   },
   "cell_type": "code",
   "source": [
    "a1 = np.array([0.30697009])\n",
    "a2 = np.array([0.30697008])\n",
    "print(\"a1 == a2 =\", a1 == a2)\n",
    "print(\"np.allclose(a1, a2) =\", np.allclose(a1, a2))"
   ],
   "id": "1048d897b0d5ebce",
   "outputs": [
    {
     "name": "stdout",
     "output_type": "stream",
     "text": [
      "a1 == a2 = [False]\n",
      "np.allclose(a1, a2) = True\n"
     ]
    }
   ],
   "execution_count": 12
  },
  {
   "metadata": {},
   "cell_type": "code",
   "outputs": [],
   "execution_count": null,
   "source": [
    "# Free functions\n",
    "a1 = np.array([4, 16, 256])\n",
    "print(\"np.sqrt(array) =\", np.sqrt(a1))\n",
    "\n",
    "a1 = np.array([1, 2, 3])\n",
    "a2 = np.array([2, 2, 2])\n",
    "print(\"np.dot(a1, a2) =\", np.dot(a1, a2))"
   ],
   "id": "50bcfbd2d624361d"
  },
  {
   "metadata": {
    "ExecuteTime": {
     "end_time": "2025-03-09T20:11:29.420479Z",
     "start_time": "2025-03-09T20:11:29.418441Z"
    }
   },
   "cell_type": "code",
   "source": [
    "a1 = np.arange(1, 7).reshape(2, 3)\n",
    "print(\"a1 =\", a1)\n",
    "print(\"a1.sum(axis=0) =\", a1.sum(axis=0))\n",
    "print(\"a1.sum(axis=1) =\", a1.sum(axis=1))"
   ],
   "id": "5a645043dce68b83",
   "outputs": [
    {
     "name": "stdout",
     "output_type": "stream",
     "text": [
      "a1 =  [[1 2 3]\n",
      " [4 5 6]]\n",
      "a1.sum(axis=0) =  [5 7 9]\n",
      "a1.sum(axis=1) =  [ 6 15]\n"
     ]
    }
   ],
   "execution_count": 81
  },
  {
   "metadata": {
    "ExecuteTime": {
     "end_time": "2025-03-09T20:20:35.241781Z",
     "start_time": "2025-03-09T20:20:35.239793Z"
    }
   },
   "cell_type": "code",
   "source": [
    "# Mean\n",
    "a1 = np.array([\n",
    "  [1, 2, 3],\n",
    "  [2, 4, 6],\n",
    "])\n",
    "print(\"np.mean(a1) =\", np.mean(a1))\n",
    "print(\"np.mean(a1, axis=0) =\", np.mean(a1, axis=0))\n",
    "print(\"np.mean(a1, axis=1) =\", np.mean(a1, axis=1))"
   ],
   "id": "473cd7bf59a08da3",
   "outputs": [
    {
     "name": "stdout",
     "output_type": "stream",
     "text": [
      "np.mean(a1) =  3.0\n",
      "np.mean(a1, axis=0) =  [1.5 3.  4.5]\n",
      "np.mean(a1, axis=1) =  [2. 4.]\n"
     ]
    }
   ],
   "execution_count": 86
  },
  {
   "metadata": {
    "ExecuteTime": {
     "end_time": "2025-03-09T20:22:03.119838Z",
     "start_time": "2025-03-09T20:22:03.117666Z"
    }
   },
   "cell_type": "code",
   "source": [
    "# Variance\n",
    "a1 = np.array([\n",
    "  [1, 2, 3],\n",
    "  [2, 4, 6],\n",
    "])\n",
    "print(\"np.var(a1) =\", np.var(a1))\n",
    "print(\"np.var(a1, axis=0) =\", np.var(a1, axis=0))\n",
    "print(\"np.var(a1, axis=1) =\", np.var(a1, axis=1))"
   ],
   "id": "bb0f6adc531804e6",
   "outputs": [
    {
     "name": "stdout",
     "output_type": "stream",
     "text": [
      "np.var(a1) =  2.6666666666666665\n",
      "np.var(a1, axis=0) =  [0.25 1.   2.25]\n",
      "np.var(a1, axis=1) =  [0.66666667 2.66666667]\n"
     ]
    }
   ],
   "execution_count": 89
  },
  {
   "metadata": {
    "ExecuteTime": {
     "end_time": "2025-03-09T20:22:37.748606Z",
     "start_time": "2025-03-09T20:22:37.746412Z"
    }
   },
   "cell_type": "code",
   "source": [
    "# Variance\n",
    "a1 = np.array([\n",
    "  [1, 2, 3],\n",
    "  [2, 4, 6],\n",
    "])\n",
    "print(\"np.std(a1) =\", np.std(a1))\n",
    "print(\"np.std(a1, axis=0) =\", np.std(a1, axis=0))\n",
    "print(\"np.std(a1, axis=1) =\", np.std(a1, axis=1))"
   ],
   "id": "89bc83d7f26c3a2c",
   "outputs": [
    {
     "name": "stdout",
     "output_type": "stream",
     "text": [
      "np.std(a1) =  1.632993161855452\n",
      "np.std(a1, axis=0) =  [0.5 1.  1.5]\n",
      "np.std(a1, axis=1) =  [0.81649658 1.63299316]\n"
     ]
    }
   ],
   "execution_count": 90
  },
  {
   "metadata": {
    "ExecuteTime": {
     "end_time": "2025-03-09T20:28:05.306412Z",
     "start_time": "2025-03-09T20:28:05.304575Z"
    }
   },
   "cell_type": "code",
   "source": [
    "# Min/Max\n",
    "a1 = np.array([12, 24, 0])\n",
    "print(\"np.max(a1) =\", np.max(a1))"
   ],
   "id": "4cd38346abc0c35a",
   "outputs": [
    {
     "name": "stdout",
     "output_type": "stream",
     "text": [
      "np.min(a1) = 0\n",
      "np.max(a1) = 24\n"
     ]
    }
   ],
   "execution_count": 92
  },
  {
   "metadata": {
    "ExecuteTime": {
     "end_time": "2025-03-09T20:39:35.517618Z",
     "start_time": "2025-03-09T20:39:35.515647Z"
    }
   },
   "cell_type": "code",
   "source": [
    "# Copying\n",
    "a1 = np.array([1, 2, 3])\n",
    "a2 = a1\n",
    "a3 = np.copy(a1) * 2\n",
    "print(\"a1 is equal a2 =\", np.equal(a1, a2))\n",
    "print(\"a1 is equal a3 =\", np.equal(a1, a3))"
   ],
   "id": "1207cda65b9b242e",
   "outputs": [
    {
     "name": "stdout",
     "output_type": "stream",
     "text": [
      "a1 is equal a2 = [ True  True  True]\n",
      "a1 is equal a3 = [False False False]\n"
     ]
    }
   ],
   "execution_count": 96
  },
  {
   "metadata": {},
   "cell_type": "markdown",
   "source": "# Linear Algebra",
   "id": "2b2ae0e5e0ee8cc7"
  },
  {
   "metadata": {},
   "cell_type": "code",
   "outputs": [],
   "execution_count": null,
   "source": [
    "a1 = np.array([\n",
    "  [1, 2],\n",
    "  [3, 4]\n",
    "])\n",
    "print(\"np.linalg.inv(a1):\", np.linalg.inv(a1))"
   ],
   "id": "d39177048f8b3f73"
  },
  {
   "metadata": {},
   "cell_type": "code",
   "outputs": [],
   "execution_count": null,
   "source": [
    "a1 = np.array([\n",
    "  [1, 2],\n",
    "  [3, 4]\n",
    "])\n",
    "print(\"np.linalg.det(a1):\", np.linalg.det(a1))"
   ],
   "id": "fcf45e3c650398ec"
  },
  {
   "metadata": {
    "ExecuteTime": {
     "end_time": "2025-03-11T21:09:54.371426Z",
     "start_time": "2025-03-11T21:09:54.369124Z"
    }
   },
   "cell_type": "code",
   "source": [
    "a1 = np.array([[1, 2], [3, 4]])\n",
    "eigenvalues, eigenvector = np.linalg.eig(a1)\n",
    "print(\"eigenvalues =\", eigenvalues)\n",
    "print(\"eigenvector =\", eigenvector)\n",
    "\n",
    "print(\"checking:\")\n",
    "print(eigenvector[:, 0] * eigenvalues[0])\n",
    "print(a1 @ eigenvector[:, 0])\n"
   ],
   "id": "70a1acd129da5657",
   "outputs": [
    {
     "name": "stdout",
     "output_type": "stream",
     "text": [
      "eigenvalues = [-0.37228132  5.37228132]\n",
      "eigenvector = [[-0.82456484 -0.41597356]\n",
      " [ 0.56576746 -0.90937671]]\n",
      "checking:\n",
      "[ 0.30697009 -0.21062466]\n",
      "[ 0.30697009 -0.21062466]\n"
     ]
    }
   ],
   "execution_count": 9
  },
  {
   "metadata": {
    "ExecuteTime": {
     "end_time": "2025-03-11T21:16:59.798154Z",
     "start_time": "2025-03-11T21:16:59.795787Z"
    }
   },
   "cell_type": "code",
   "source": [
    "A = np.array([[1, 1], [1.5, 4.0]])\n",
    "b = np.array([2200, 5050])\n",
    "\n",
    "# Option 1\n",
    "x = np.linalg.inv(A).dot(b)\n",
    "print(\"x =\", x)\n",
    "\n",
    "# Option 2\n",
    "x = np.linalg.solve(A, b)\n",
    "print(\"x =\", x)"
   ],
   "id": "cb4f611e0c91a148",
   "outputs": [
    {
     "name": "stdout",
     "output_type": "stream",
     "text": [
      "x = [1500.  700.]\n",
      "x = [1500.  700.]\n"
     ]
    }
   ],
   "execution_count": 15
  },
  {
   "metadata": {
    "ExecuteTime": {
     "end_time": "2025-03-12T20:43:17.575283Z",
     "start_time": "2025-03-12T20:43:17.526676Z"
    }
   },
   "cell_type": "code",
   "source": [
    "import matplotlib.pyplot as plt\n",
    "mu, sigma = 2, 0.5\n",
    "rg = np.random.default_rng(1)\n",
    "v = rg.normal(mu, sigma, 10000)\n",
    "(n, bins) = np.histogram(v, bins=50, density=True)\n",
    "print(\"n.shape=\", n.shape, \"(\", n[:5], \")\")\n",
    "print(\"bins.shape=\", bins.shape, \"(\", bins)\n",
    "plt.plot(0.5 * (bins[1:] + bins[:-1]), n)"
   ],
   "id": "b0699979d00d6d49",
   "outputs": [
    {
     "name": "stdout",
     "output_type": "stream",
     "text": [
      "n.shape= (50,) ( [0.00128706 0.00257412 0.00257412 0.00257412 0.00772237] )\n",
      "bins.shape= (51,) ( [0.08106893 0.15876533 0.23646173 0.31415813 0.39185453 0.46955093\n",
      " 0.54724733 0.62494373 0.70264013 0.78033653 0.85803293 0.93572933\n",
      " 1.01342573 1.09112213 1.16881853 1.24651493 1.32421133 1.40190773\n",
      " 1.47960413 1.55730053 1.63499693 1.71269333 1.79038973 1.86808613\n",
      " 1.94578253 2.02347893 2.10117533 2.17887173 2.25656814 2.33426454\n",
      " 2.41196094 2.48965734 2.56735374 2.64505014 2.72274654 2.80044294\n",
      " 2.87813934 2.95583574 3.03353214 3.11122854 3.18892494 3.26662134\n",
      " 3.34431774 3.42201414 3.49971054 3.57740694 3.65510334 3.73279974\n",
      " 3.81049614 3.88819254 3.96588894]\n"
     ]
    },
    {
     "data": {
      "text/plain": [
       "[<matplotlib.lines.Line2D at 0x783be8d9f0b0>]"
      ]
     },
     "execution_count": 21,
     "metadata": {},
     "output_type": "execute_result"
    },
    {
     "data": {
      "text/plain": [
       "<Figure size 640x480 with 1 Axes>"
      ],
      "image/png": "[encoded data removed]"
     },
     "metadata": {},
     "output_type": "display_data"
    }
   ],
   "execution_count": 21
  },
  {
   "metadata": {},
   "cell_type": "markdown",
   "source": "# Load CSV data",
   "id": "ec7102891a721416"
  },
  {
   "metadata": {},
   "cell_type": "code",
   "outputs": [],
   "execution_count": null,
   "source": [
    "# np.loadtxt\n",
    "# np.genfromtxt"
   ],
   "id": "182a4aac2f708a8b"
  }
 ],
 "metadata": {
  "kernelspec": {
   "display_name": "Python 3",
   "language": "python",
   "name": "python3"
  },
  "language_info": {
   "codemirror_mode": {
    "name": "ipython",
    "version": 2
   },
   "file_extension": ".py",
   "mimetype": "text/x-python",
   "name": "python",
   "nbconvert_exporter": "python",
   "pygments_lexer": "ipython2",
   "version": "2.7.6"
  }
 },
 "nbformat": 4,
 "nbformat_minor": 5
}
